{
 "cells": [
  {
   "cell_type": "markdown",
   "id": "ebd2d50d-fdc0-4731-b552-96af285a610e",
   "metadata": {},
   "source": [
    "# Solution - A Multiplicity of Models\n",
    "\n",
    "We haven't really talked too much about specific models or algorithms, that is something you can study on your own, but a warning -- that liteature is extensive, so I'd suggest starting with YouTube videos. \n",
    "\n",
    "In general you might approach a given classification or regression problem with a number of different possible models to determine which is the most useful for your purposes (e.g., most accurate, least biased, etc.). A few potential models (*not exhaustive*) are listed below based on the type of problem they can solve:\n",
    "\n",
    "* **Classification**: Logistic Regression, K Nearest Neighbors, Support Vector Machines, Random Forest, Neural Networks\n",
    "* **Regression**: Linear Regression, Polynomial Regression, Stochastic Gradient Descent, Support Vector Machines, Random Forest, Neural Networks\n",
    "\n",
    "In this notebook, you will work with synthesized data to understand the workflow for using and comparing classifiers. Along the way, we will introduce new models, but only link to videos that explain what they do."
   ]
  },
  {
   "cell_type": "markdown",
   "id": "04e21a1d-250d-4875-bdc8-6c5a0d608dd0",
   "metadata": {},
   "source": [
    "---\n",
    "## 0. Today's Initial Imports"
   ]
  },
  {
   "cell_type": "code",
   "execution_count": 1,
   "id": "e548af72-4d57-42fb-8137-dde544e69bd0",
   "metadata": {},
   "outputs": [],
   "source": [
    "import pandas as pd\n",
    "import numpy as np\n",
    "import matplotlib.pyplot as plt\n",
    "\n",
    "from sklearn.datasets import make_classification, make_circles\n",
    "from sklearn.linear_model import LogisticRegression\n",
    "\n",
    "from sklearn.model_selection import train_test_split, GridSearchCV, cross_val_score, ShuffleSplit\n",
    "from sklearn.metrics import confusion_matrix, classification_report, roc_curve, roc_auc_score, accuracy_score, roc_auc_score\n",
    "\n",
    "%matplotlib inline"
   ]
  },
  {
   "cell_type": "markdown",
   "id": "a0b69423-a428-4458-a90f-39f1b53c0285",
   "metadata": {},
   "source": [
    "---\n",
    "## 1. Example: Validating a Logistic Regression Model\n",
    "\n",
    "We will start with a Logistic Regression Model and synthesized data. \n",
    "\n",
    "[[Logistic Regression Explained]](https://www.youtube.com/watch?v=yIYKR4sgzI8) *(No need to watch in class.)*\n",
    "\n",
    "By reviewing and working with this example, you should be able to identify and explain the different ways in which we are validating the Logisitc Regression model. \n",
    "\n",
    "### 1.1 Making classification data\n",
    "\n",
    "We start by making the data using the `make_classification()` method. I will pick 1000 samples with 20 features; only 4 of them will be informative about the 2 classes. What `make_classification()` returns are the data (the features for the model) and the class labels (the 1 or 0). For simplicity and familiarity, I convert them both to `pandas` data frames as this is typically what you would do with data you read in."
   ]
  },
  {
   "cell_type": "code",
   "execution_count": 2,
   "id": "d412a900-7e92-40d4-8717-a47e69c71de9",
   "metadata": {},
   "outputs": [],
   "source": [
    "## Parameters for making data\n",
    "N_samples = 1000\n",
    "N_features = 20\n",
    "N_informative = 4\n",
    "N_classes = 2\n",
    "\n",
    "## Make up some data for classification\n",
    "X, y = make_classification(n_samples = N_samples,\n",
    "                           n_features = N_features,\n",
    "                           n_informative = N_informative,\n",
    "                           n_classes = N_classes)\n",
    "\n",
    "## Store the data in a data frame\n",
    "feature_list = []\n",
    "\n",
    "for feature in np.arange(N_features):\n",
    "    feature_list.append('feature_'+str(feature))\n",
    "\n",
    "features = pd.DataFrame(X, columns=feature_list)\n",
    "classes = pd.DataFrame(y, columns=['label'])"
   ]
  },
  {
   "cell_type": "markdown",
   "id": "fd6b90c7-64d9-4c59-a64d-e2ac0111f01d",
   "metadata": {},
   "source": [
    "We can check the `.head()` of both data frames to make sure we know what we imported."
   ]
  },
  {
   "cell_type": "code",
   "execution_count": 3,
   "id": "c810f94c-1cc9-4c54-9dbe-39a8624a6c19",
   "metadata": {},
   "outputs": [
    {
     "data": {
      "text/html": [
       "<div>\n",
       "<style scoped>\n",
       "    .dataframe tbody tr th:only-of-type {\n",
       "        vertical-align: middle;\n",
       "    }\n",
       "\n",
       "    .dataframe tbody tr th {\n",
       "        vertical-align: top;\n",
       "    }\n",
       "\n",
       "    .dataframe thead th {\n",
       "        text-align: right;\n",
       "    }\n",
       "</style>\n",
       "<table border=\"1\" class=\"dataframe\">\n",
       "  <thead>\n",
       "    <tr style=\"text-align: right;\">\n",
       "      <th></th>\n",
       "      <th>feature_0</th>\n",
       "      <th>feature_1</th>\n",
       "      <th>feature_2</th>\n",
       "      <th>feature_3</th>\n",
       "      <th>feature_4</th>\n",
       "      <th>feature_5</th>\n",
       "      <th>feature_6</th>\n",
       "      <th>feature_7</th>\n",
       "      <th>feature_8</th>\n",
       "      <th>feature_9</th>\n",
       "      <th>feature_10</th>\n",
       "      <th>feature_11</th>\n",
       "      <th>feature_12</th>\n",
       "      <th>feature_13</th>\n",
       "      <th>feature_14</th>\n",
       "      <th>feature_15</th>\n",
       "      <th>feature_16</th>\n",
       "      <th>feature_17</th>\n",
       "      <th>feature_18</th>\n",
       "      <th>feature_19</th>\n",
       "    </tr>\n",
       "  </thead>\n",
       "  <tbody>\n",
       "    <tr>\n",
       "      <th>0</th>\n",
       "      <td>0.612694</td>\n",
       "      <td>-0.103132</td>\n",
       "      <td>-0.267346</td>\n",
       "      <td>0.153512</td>\n",
       "      <td>0.516020</td>\n",
       "      <td>1.251561</td>\n",
       "      <td>0.848281</td>\n",
       "      <td>5.009086</td>\n",
       "      <td>-1.363851</td>\n",
       "      <td>0.776745</td>\n",
       "      <td>-0.439468</td>\n",
       "      <td>0.050744</td>\n",
       "      <td>1.317167</td>\n",
       "      <td>-0.170907</td>\n",
       "      <td>-1.348628</td>\n",
       "      <td>-3.181531</td>\n",
       "      <td>0.888695</td>\n",
       "      <td>2.701562</td>\n",
       "      <td>3.315473</td>\n",
       "      <td>-0.287589</td>\n",
       "    </tr>\n",
       "    <tr>\n",
       "      <th>1</th>\n",
       "      <td>-0.725912</td>\n",
       "      <td>1.997657</td>\n",
       "      <td>0.074594</td>\n",
       "      <td>-2.577062</td>\n",
       "      <td>-0.232693</td>\n",
       "      <td>-1.881299</td>\n",
       "      <td>-0.284693</td>\n",
       "      <td>1.363553</td>\n",
       "      <td>1.100933</td>\n",
       "      <td>-0.922893</td>\n",
       "      <td>0.720922</td>\n",
       "      <td>-2.065911</td>\n",
       "      <td>-0.102098</td>\n",
       "      <td>0.211984</td>\n",
       "      <td>-0.801021</td>\n",
       "      <td>-1.387583</td>\n",
       "      <td>-0.905420</td>\n",
       "      <td>1.405053</td>\n",
       "      <td>-0.175970</td>\n",
       "      <td>-0.075030</td>\n",
       "    </tr>\n",
       "    <tr>\n",
       "      <th>2</th>\n",
       "      <td>1.192186</td>\n",
       "      <td>0.335299</td>\n",
       "      <td>-0.157549</td>\n",
       "      <td>-0.004746</td>\n",
       "      <td>1.369081</td>\n",
       "      <td>-1.357544</td>\n",
       "      <td>-1.641488</td>\n",
       "      <td>0.992889</td>\n",
       "      <td>-0.065464</td>\n",
       "      <td>0.037287</td>\n",
       "      <td>0.480859</td>\n",
       "      <td>0.681286</td>\n",
       "      <td>0.052300</td>\n",
       "      <td>0.836286</td>\n",
       "      <td>0.151800</td>\n",
       "      <td>-0.549929</td>\n",
       "      <td>1.161110</td>\n",
       "      <td>0.687438</td>\n",
       "      <td>1.756267</td>\n",
       "      <td>0.393012</td>\n",
       "    </tr>\n",
       "    <tr>\n",
       "      <th>3</th>\n",
       "      <td>-1.639626</td>\n",
       "      <td>-0.448213</td>\n",
       "      <td>-0.539223</td>\n",
       "      <td>-0.418453</td>\n",
       "      <td>0.711005</td>\n",
       "      <td>-1.779812</td>\n",
       "      <td>-0.648124</td>\n",
       "      <td>0.528442</td>\n",
       "      <td>0.578592</td>\n",
       "      <td>1.000328</td>\n",
       "      <td>-1.524049</td>\n",
       "      <td>1.582335</td>\n",
       "      <td>0.165979</td>\n",
       "      <td>1.084902</td>\n",
       "      <td>-0.863999</td>\n",
       "      <td>-0.665511</td>\n",
       "      <td>-0.566369</td>\n",
       "      <td>0.405010</td>\n",
       "      <td>-1.509371</td>\n",
       "      <td>0.718972</td>\n",
       "    </tr>\n",
       "    <tr>\n",
       "      <th>4</th>\n",
       "      <td>1.545687</td>\n",
       "      <td>-1.445203</td>\n",
       "      <td>-0.781868</td>\n",
       "      <td>0.824983</td>\n",
       "      <td>0.773158</td>\n",
       "      <td>1.097341</td>\n",
       "      <td>0.108031</td>\n",
       "      <td>0.087304</td>\n",
       "      <td>2.005362</td>\n",
       "      <td>-0.799365</td>\n",
       "      <td>-0.227030</td>\n",
       "      <td>-0.330740</td>\n",
       "      <td>-0.024312</td>\n",
       "      <td>1.386112</td>\n",
       "      <td>-0.062559</td>\n",
       "      <td>0.292620</td>\n",
       "      <td>2.614725</td>\n",
       "      <td>-0.115821</td>\n",
       "      <td>1.601066</td>\n",
       "      <td>1.086189</td>\n",
       "    </tr>\n",
       "  </tbody>\n",
       "</table>\n",
       "</div>"
      ],
      "text/plain": [
       "   feature_0  feature_1  feature_2  feature_3  feature_4  feature_5  \\\n",
       "0   0.612694  -0.103132  -0.267346   0.153512   0.516020   1.251561   \n",
       "1  -0.725912   1.997657   0.074594  -2.577062  -0.232693  -1.881299   \n",
       "2   1.192186   0.335299  -0.157549  -0.004746   1.369081  -1.357544   \n",
       "3  -1.639626  -0.448213  -0.539223  -0.418453   0.711005  -1.779812   \n",
       "4   1.545687  -1.445203  -0.781868   0.824983   0.773158   1.097341   \n",
       "\n",
       "   feature_6  feature_7  feature_8  feature_9  feature_10  feature_11  \\\n",
       "0   0.848281   5.009086  -1.363851   0.776745   -0.439468    0.050744   \n",
       "1  -0.284693   1.363553   1.100933  -0.922893    0.720922   -2.065911   \n",
       "2  -1.641488   0.992889  -0.065464   0.037287    0.480859    0.681286   \n",
       "3  -0.648124   0.528442   0.578592   1.000328   -1.524049    1.582335   \n",
       "4   0.108031   0.087304   2.005362  -0.799365   -0.227030   -0.330740   \n",
       "\n",
       "   feature_12  feature_13  feature_14  feature_15  feature_16  feature_17  \\\n",
       "0    1.317167   -0.170907   -1.348628   -3.181531    0.888695    2.701562   \n",
       "1   -0.102098    0.211984   -0.801021   -1.387583   -0.905420    1.405053   \n",
       "2    0.052300    0.836286    0.151800   -0.549929    1.161110    0.687438   \n",
       "3    0.165979    1.084902   -0.863999   -0.665511   -0.566369    0.405010   \n",
       "4   -0.024312    1.386112   -0.062559    0.292620    2.614725   -0.115821   \n",
       "\n",
       "   feature_18  feature_19  \n",
       "0    3.315473   -0.287589  \n",
       "1   -0.175970   -0.075030  \n",
       "2    1.756267    0.393012  \n",
       "3   -1.509371    0.718972  \n",
       "4    1.601066    1.086189  "
      ]
     },
     "execution_count": 3,
     "metadata": {},
     "output_type": "execute_result"
    }
   ],
   "source": [
    "features.head()"
   ]
  },
  {
   "cell_type": "code",
   "execution_count": 4,
   "id": "f1d463a3-a61f-4123-b23d-e57e30104279",
   "metadata": {},
   "outputs": [
    {
     "data": {
      "text/html": [
       "<div>\n",
       "<style scoped>\n",
       "    .dataframe tbody tr th:only-of-type {\n",
       "        vertical-align: middle;\n",
       "    }\n",
       "\n",
       "    .dataframe tbody tr th {\n",
       "        vertical-align: top;\n",
       "    }\n",
       "\n",
       "    .dataframe thead th {\n",
       "        text-align: right;\n",
       "    }\n",
       "</style>\n",
       "<table border=\"1\" class=\"dataframe\">\n",
       "  <thead>\n",
       "    <tr style=\"text-align: right;\">\n",
       "      <th></th>\n",
       "      <th>label</th>\n",
       "    </tr>\n",
       "  </thead>\n",
       "  <tbody>\n",
       "    <tr>\n",
       "      <th>0</th>\n",
       "      <td>1</td>\n",
       "    </tr>\n",
       "    <tr>\n",
       "      <th>1</th>\n",
       "      <td>0</td>\n",
       "    </tr>\n",
       "    <tr>\n",
       "      <th>2</th>\n",
       "      <td>0</td>\n",
       "    </tr>\n",
       "    <tr>\n",
       "      <th>3</th>\n",
       "      <td>0</td>\n",
       "    </tr>\n",
       "    <tr>\n",
       "      <th>4</th>\n",
       "      <td>0</td>\n",
       "    </tr>\n",
       "  </tbody>\n",
       "</table>\n",
       "</div>"
      ],
      "text/plain": [
       "   label\n",
       "0      1\n",
       "1      0\n",
       "2      0\n",
       "3      0\n",
       "4      0"
      ]
     },
     "execution_count": 4,
     "metadata": {},
     "output_type": "execute_result"
    }
   ],
   "source": [
    "classes.head()"
   ]
  },
  {
   "cell_type": "markdown",
   "id": "8a2ff9ae-fec1-460c-ad73-da7f6dadc891",
   "metadata": {},
   "source": [
    "### 1.2 Plotting Feature Spaces\n",
    "\n",
    "We've found that looking at the classes in some feature subspace has been helpful in seeing if there are subspaces where the classes are more separated. We do this so frequently, it is worth having a little piece of code to do that. I've written one below."
   ]
  },
  {
   "cell_type": "code",
   "execution_count": 5,
   "id": "a7c24e95-b12b-4fcf-80f2-aed54f7a04c5",
   "metadata": {},
   "outputs": [],
   "source": [
    "def PlotFeatureSpace(x1,x2,c):\n",
    "    \n",
    "    '''From a Data Series, PlotFeatureSpace creates a \n",
    "    scatter plot of two features and colors the dots \n",
    "    using the classes. The figure labels are the names \n",
    "    of each passed column of the Data Series.'''\n",
    "    \n",
    "    plt.figure()\n",
    "    plt.scatter(x1, x2, c=c)\n",
    "    plt.xlabel(x1.name);\n",
    "    plt.ylabel(x2.name);"
   ]
  },
  {
   "cell_type": "markdown",
   "id": "9b783f28-4d08-40e6-85ea-9b7cc412544b",
   "metadata": {},
   "source": [
    "<font size=+3>&#9998;</font> **Do this:** Using PlotFeatureSpace(), try to find at least two possible features that might be important to the model. That is, can you find two features that seperate the classes well? I've given an example call below."
   ]
  },
  {
   "cell_type": "code",
   "execution_count": 6,
   "id": "40dca758-1159-4d5c-af2b-d66a3429ee92",
   "metadata": {},
   "outputs": [
    {
     "data": {
      "image/png": "[encoded data removed]",
      "text/plain": [
       "<Figure size 432x288 with 1 Axes>"
      ]
     },
     "metadata": {
      "filenames": {
       "image/png": "/Users/caballero/Repos/teaching/OPSI_ML_workshop/_build/jupyter_execute/notebooks/day-4/Day_4-Multiplicity_of_Models-SOL_11_0.png"
      },
      "needs_background": "light"
     },
     "output_type": "display_data"
    }
   ],
   "source": [
    "## Parameters for PlotFutureSpace\n",
    "\n",
    "x = \"feature_1\"\n",
    "y = \"feature_2\"\n",
    "c = classes['label']\n",
    "\n",
    "PlotFeatureSpace(features[x], features[y], c)"
   ]
  },
  {
   "cell_type": "markdown",
   "id": "bbdbe02b-cbb5-4623-8f91-97065bc3d1b1",
   "metadata": {},
   "source": [
    "<font size=+3>&#9998;</font> **Do this:** Which two features did you find? Keep note here! \n",
    "\n",
    "*If you rerun the data creation process, the same two features might no longer be useful.*"
   ]
  },
  {
   "cell_type": "markdown",
   "id": "6f8f9bf3-23fc-4b38-ae67-cb6e1d9b9dc6",
   "metadata": {},
   "source": [
    "<font size=+3>&#9998;</font> **Do this:** Erase this and write here."
   ]
  },
  {
   "cell_type": "markdown",
   "id": "a287b387-8456-4fbf-966c-2512aa858a85",
   "metadata": {},
   "source": [
    "### 1.3 A Logistic Regression Model\n",
    "\n",
    "As we did with KNN, we will train and test a classification model. This time it will be a [Logitstic Regression](https://scikit-learn.org/stable/modules/generated/sklearn.linear_model.LogisticRegression.html) model. We will first use the confusion matrix to determine how things are going. I've written to code below to split the data, create the model, fit it, and predict the classes of the test data."
   ]
  },
  {
   "cell_type": "code",
   "execution_count": 7,
   "id": "5ca6eb1a-6569-49bf-9097-ce37270f2350",
   "metadata": {},
   "outputs": [
    {
     "name": "stdout",
     "output_type": "stream",
     "text": [
      "[[106  21]\n",
      " [ 19 104]]\n"
     ]
    }
   ],
   "source": [
    "## Split the data\n",
    "x_train, x_test, y_train, y_test = train_test_split(features, classes)\n",
    "\n",
    "## Create an instance of the model (LR with no regularization)\n",
    "model = LogisticRegression(penalty='none')\n",
    "\n",
    "## Fit the model to the training data\n",
    "model.fit(x_train, y_train['label'])\n",
    "\n",
    "## Use that model to predict test outcomes\n",
    "y_pred = model.predict(x_test)\n",
    "\n",
    "## Compare the real outcomes to the predicted outcomes\n",
    "print(confusion_matrix(y_test, y_pred))"
   ]
  },
  {
   "cell_type": "markdown",
   "id": "54d13402-d32f-46a9-b68b-4cdbf36c88b5",
   "metadata": {},
   "source": [
    "#### 1.3.1 The Metric Zoo\n",
    "\n",
    "There are many different ways to use the confusion matrix to determine different qualities of your classifier. Accuracy, the number of true positives and negatives comapred to all predictions is just one of these metrics. There's a lot of them! [[Wikipedia article on evaluation metrics]](https://en.wikipedia.org/wiki/Confusion_matrix)\n",
    "\n",
    "Two of the more important ones are the accuracy (as we've used before) and the [f1-score](https://en.wikipedia.org/wiki/F-score) (closer to 1 is better). The `sklearn` toolkit has all these built-in, but one tool that is at the ready is `classification_report()`, which gives the accuracy, the f-1 score, as well as the [precision](https://en.wikipedia.org/wiki/Positive_and_negative_predictive_values) and [recall](https://en.wikipedia.org/wiki/Sensitivity_and_specificity) -- two other common metrics for evaluation.\n",
    "\n",
    "Once we have predicted class labels, then we can use `classification_report`. Both the `confusion_matrix` and `classification_report` can be used with any of `sklearn`'s classifiers."
   ]
  },
  {
   "cell_type": "code",
   "execution_count": 8,
   "id": "fc56e363-bb24-4420-8ac5-814ba70413d8",
   "metadata": {},
   "outputs": [
    {
     "name": "stdout",
     "output_type": "stream",
     "text": [
      "              precision    recall  f1-score   support\n",
      "\n",
      "           0       0.85      0.83      0.84       127\n",
      "           1       0.83      0.85      0.84       123\n",
      "\n",
      "    accuracy                           0.84       250\n",
      "   macro avg       0.84      0.84      0.84       250\n",
      "weighted avg       0.84      0.84      0.84       250\n",
      "\n"
     ]
    }
   ],
   "source": [
    "print(classification_report(y_test, y_pred))"
   ]
  },
  {
   "cell_type": "markdown",
   "id": "fba4caff-0322-49fc-9c32-4e1e2c8fd8b5",
   "metadata": {},
   "source": [
    "### 1.4 AUC and the ROC Curve\n",
    "\n",
    "The Receiver Operator Characteristic (ROC) Curve and the associated Area Under the Curve (AUC) are additional tools that help us validate our model. Fortunately, `sklearn` has `roc_curve`, that will return to quantities needed to plot this curve. The AUC can also be determined using the built in `roc_auc_score()` method.\n",
    "\n",
    "Below I wrote a little bit of code to plot the ROC curve and compute the AUC for this model. \n",
    "\n",
    "Again, both of the tools are available for any classifier model."
   ]
  },
  {
   "cell_type": "code",
   "execution_count": 9,
   "id": "5d942768-85f3-4328-a87c-0551c2626da9",
   "metadata": {},
   "outputs": [
    {
     "data": {
      "text/plain": [
       "<matplotlib.legend.Legend at 0x7fa6a00ce790>"
      ]
     },
     "execution_count": 9,
     "metadata": {},
     "output_type": "execute_result"
    },
    {
     "data": {
      "image/png": "[encoded data removed]",
      "text/plain": [
       "<Figure size 432x288 with 1 Axes>"
      ]
     },
     "metadata": {
      "filenames": {
       "image/png": "/Users/caballero/Repos/teaching/OPSI_ML_workshop/_build/jupyter_execute/notebooks/day-4/Day_4-Multiplicity_of_Models-SOL_19_1.png"
      },
      "needs_background": "light"
     },
     "output_type": "display_data"
    }
   ],
   "source": [
    "fpr, tpr, thresholds = roc_curve(y_test, y_pred)\n",
    "\n",
    "plt.figure()\n",
    "\n",
    "plt.plot(fpr, tpr, label='ROC curve (AUC = %0.2f)' % roc_auc_score(y_test,y_pred))\n",
    "plt.plot([0, 1], [0, 1], c='k', linestyle='--')\n",
    "\n",
    "plt.axis([0, 1, 0, 1])\n",
    "plt.xlabel('FPR')\n",
    "plt.ylabel('TPR')\n",
    "plt.legend(loc=\"lower right\")"
   ]
  },
  {
   "cell_type": "markdown",
   "id": "ce78f7db-2142-4b97-9e22-d8e4cab27d53",
   "metadata": {},
   "source": [
    "### 1.5 Model Specific Tools - Logistic Regression\n",
    "\n",
    "A LR model uses a transformed linear model to fit the data. It predicts numerical weights for each feature in the data. Those numerical weights can be converted to odds ratio by exponentiating them:\n",
    "\n",
    "$odds_i = \\exp(\\beta_i)$\n",
    "\n",
    "where $\\beta_i$ is the numerical weight for the $i$th feature determined by the model. In `sklearn` speak, these would be \"coefficients\" of the model; `coef_` in code (and yes with the trailing underscore). The nice thing about LR is that these coefficients are typically interpretable. That is if the odds of a feature is close to one then that feature has virtually no effect on the model. On the other hand, if a feature is much larger than one, we find that might contribute a lot to the model.\n",
    "\n",
    "In this case, we'd expect that feature to be useful in separating the two class labels. *That is why you predicted two features earlier!*\n",
    "\n",
    "Below I wrote a little code to find those odds ratios. "
   ]
  },
  {
   "cell_type": "code",
   "execution_count": 10,
   "id": "a6c46ff9-7fdd-4786-ac39-e8fd2ac119f5",
   "metadata": {},
   "outputs": [
    {
     "name": "stdout",
     "output_type": "stream",
     "text": [
      "Model Coefficients: [[ 0.28648194 -0.15926342  0.1134972  -0.16133451 -0.07551187 -0.04623385\n",
      "   0.02590664  0.32990226  0.05113671 -0.12060272  0.14801497  0.16053251\n",
      "   0.73469794 -0.28129667 -0.10123816  0.77144284  0.01855754 -1.2364377\n",
      "  -0.21532248 -0.02769494]]\n",
      "Odds Ratios: [1.33173411 0.85277169 1.12018875 0.85100735 0.92726872 0.95481865\n",
      " 1.02624514 1.39083219 1.05246676 0.88638603 1.15953026 1.17413594\n",
      " 2.08485214 0.75480437 0.90371778 2.1628847  1.0187308  0.29041693\n",
      " 0.80628139 0.97268504]\n"
     ]
    }
   ],
   "source": [
    "## Extract model coefficeints\n",
    "print(\"Model Coefficients:\", model.coef_)\n",
    "\n",
    "## Compute odds ratios from model coefficients\n",
    "odds = np.exp(model.coef_.ravel())\n",
    "print(\"Odds Ratios:\", odds)"
   ]
  },
  {
   "cell_type": "markdown",
   "id": "8adccb3e-b97c-4714-9ee8-b7a3d45d1b68",
   "metadata": {},
   "source": [
    "<font size=+3>&#9998;</font> **Do this:** Make a bar plot of the odds ratios. Which ones appear to contribute to the model? Are any of them the two featurs you found earlier? You can use `Plot_Feature_Space()` to confirm."
   ]
  },
  {
   "cell_type": "code",
   "execution_count": 11,
   "id": "687a927c-df8b-40ca-af6e-e1d9334bd673",
   "metadata": {},
   "outputs": [],
   "source": [
    "## your code here"
   ]
  },
  {
   "cell_type": "code",
   "execution_count": 12,
   "id": "39da6e58-54f5-4e8c-95a2-0a5526434cf0",
   "metadata": {},
   "outputs": [
    {
     "data": {
      "image/png": "[encoded data removed]",
      "text/plain": [
       "<Figure size 432x288 with 1 Axes>"
      ]
     },
     "metadata": {
      "filenames": {
       "image/png": "/Users/caballero/Repos/teaching/OPSI_ML_workshop/_build/jupyter_execute/notebooks/day-4/Day_4-Multiplicity_of_Models-SOL_24_0.png"
      },
      "needs_background": "light"
     },
     "output_type": "display_data"
    },
    {
     "data": {
      "image/png": "[encoded data removed]",
      "text/plain": [
       "<Figure size 432x288 with 1 Axes>"
      ]
     },
     "metadata": {
      "filenames": {
       "image/png": "/Users/caballero/Repos/teaching/OPSI_ML_workshop/_build/jupyter_execute/notebooks/day-4/Day_4-Multiplicity_of_Models-SOL_24_1.png"
      },
      "needs_background": "light"
     },
     "output_type": "display_data"
    }
   ],
   "source": [
    "### ANSWER ####\n",
    "\n",
    "plt.figure()\n",
    "plt.bar(np.arange(0,20), odds)\n",
    "plt.xticks(ticks=np.arange(0,20), \n",
    "           labels=features.columns,\n",
    "           rotation=90)\n",
    "plt.hlines(1,-1,20, 'k')\n",
    "plt.axis([-1, 20, 0, 2])\n",
    "\n",
    "PlotFeatureSpace(features[\"feature_2\"], features[\"feature_11\"], classes['label'])"
   ]
  },
  {
   "cell_type": "markdown",
   "id": "e09e6d59-da1b-42e1-87df-0691e46d7e2b",
   "metadata": {},
   "source": [
    "### 1.5 Monte Carlo Validation\n",
    "\n",
    "One of the important things about machine learning is that it often relies on the randomness of the draw of training and testing sets. As a result, any  one time the model is run you are working with a particualr choice of data for training and testing. Thus, there's a problem in reporting the results of a single model because it depends on the curiousities of what was drawn in the first place!\n",
    "\n",
    "One of the ways we validate the model we have used is to determine how representative our one run is compared to a large number of runs. Ideally, we'd like to know what the disitrbution of possible results could be. That allows us to put some error bounds on the estimated model parameters and to explain the confidence we have in our approach and results.\n",
    "\n",
    "There's two main types of validation, although many others exist and there's nuance inside of each:\n",
    "\n",
    "* **Cross-Validation:** The algorithm slices the data in N bins. Then it treats each bin in turn as a test set using the reamining N-1 bins as the training data. *This approach and modifications to it are part of `sklearn`.* [Cross Validation Documentation](https://scikit-learn.org/stable/modules/cross_validation.html)\n",
    "* **Monte Carlo Validation:** This is relatively simple as you simply repslit the data and run the model again and collect the results. **This is the approach we will use in this notebook.**\n",
    "\n",
    "Below, I wrote a short function that splits the data, creates the model, fits it, and returns the evaluation metrics including the model weights. The lines below runs it."
   ]
  },
  {
   "cell_type": "code",
   "execution_count": 13,
   "id": "c09f1800-5b71-49ef-a5d3-1aee11075628",
   "metadata": {},
   "outputs": [],
   "source": [
    "def RunLR(features, classes, penalty='none'):\n",
    "    \n",
    "    '''RunLR runs a logisitic regression model with \n",
    "    default splitting. It returns evalaution metrics including\n",
    "    accuracy, auc, and the model coefficients.'''\n",
    "    \n",
    "    x_train, x_test, y_train, y_test = train_test_split(features, classes)\n",
    "    LR = LogisticRegression(penalty=penalty)\n",
    "    LR.fit(x_train, y_train)\n",
    "    y_pred = LR.predict(x_test)\n",
    "    \n",
    "    return accuracy_score(y_test, y_pred), roc_auc_score(y_test, y_pred), LR.coef_"
   ]
  },
  {
   "cell_type": "code",
   "execution_count": 14,
   "id": "6da7a539-2623-4c24-8512-2f68d345ab25",
   "metadata": {},
   "outputs": [
    {
     "name": "stdout",
     "output_type": "stream",
     "text": [
      "Accuracy:  0.88\n",
      "AUC: 0.880097304910057\n",
      "Coefs: [[ 0.25439842 -0.07382031  0.09365829 -0.05001636 -0.03492446 -0.06413302\n",
      "   0.03060601  0.30467016  0.05482755 -0.12068881  0.05412923  0.31332987\n",
      "   0.69180165 -0.10037106 -0.06209718  0.71336808 -0.01739148 -1.14956494\n",
      "  -0.19449412  0.00931756]]\n"
     ]
    }
   ],
   "source": [
    "acc, auc, model_coefs = RunLR(features, classes['label'])\n",
    "print(\"Accuracy: \", acc)\n",
    "print(\"AUC:\", auc)\n",
    "print(\"Coefs:\", model_coefs)"
   ]
  },
  {
   "cell_type": "markdown",
   "id": "a5b31876-6e59-4b5f-b289-166b55e7462b",
   "metadata": {},
   "source": [
    "<font size=+3>&#9998;</font> **Do this:** Write a loop that does Monte Carlo Validation with 100 trials using `RunLR()`. Make sure to store the accuracy and auc each time the loop runs - you will want to know how these are distributed. \n",
    "\n",
    "*You can also try to store the model coefficients, but that isn't necessary to understand what we are trying to do. And it might lead to shape mismatch issues that aren't worth debugging right now*"
   ]
  },
  {
   "cell_type": "code",
   "execution_count": 15,
   "id": "0e9087c1-5428-48bb-9705-357c695fbf14",
   "metadata": {},
   "outputs": [],
   "source": [
    "## Your code here"
   ]
  },
  {
   "cell_type": "code",
   "execution_count": 16,
   "id": "444529a2-e6a4-4c9b-babe-2363fb4f9d41",
   "metadata": {},
   "outputs": [],
   "source": [
    "### ANSWER ###\n",
    "\n",
    "N = 100\n",
    "acc = 0\n",
    "auc = 0\n",
    "acc_array = np.empty((0,N), float)\n",
    "auc_array = np.empty((0,N), float)\n",
    "coef_array = np.empty((N,20), float)\n",
    "\n",
    "for i in range(N):\n",
    "    \n",
    "    acc, auc, coefs = RunLR(features, classes['label'])\n",
    "    acc_array = np.append(acc_array,acc)\n",
    "    auc_array = np.append(auc_array,auc)\n",
    "    coef_array = np.concatenate((coef_array, coefs), axis=0)"
   ]
  },
  {
   "cell_type": "markdown",
   "id": "e3233949-0f7f-4f35-bd10-f6973759134b",
   "metadata": {},
   "source": [
    "<font size=+3>&#9998;</font> **Do this:** Now that you have the distribution of accuracy scores and auc, let's compute the mean, standard deviation, and plot them as historgrams. Do you notice anything about the shape of the histograms?"
   ]
  },
  {
   "cell_type": "code",
   "execution_count": 17,
   "id": "09288b9e-71aa-46be-8750-b645f801ec01",
   "metadata": {},
   "outputs": [],
   "source": [
    "## your code here"
   ]
  },
  {
   "cell_type": "code",
   "execution_count": 18,
   "id": "e8a58cee-6957-4da8-bb58-7a131c2911a2",
   "metadata": {},
   "outputs": [
    {
     "name": "stdout",
     "output_type": "stream",
     "text": [
      "Mean Accuracy: 0.8376399999999999 +/- 0.01888148299260415\n",
      "Mean AUC: 0.8379295179018895 +/- 0.01904418070282785\n"
     ]
    },
    {
     "name": "stderr",
     "output_type": "stream",
     "text": [
      "/Users/caballero/opt/anaconda3/envs/ml-short-course/lib/python3.9/site-packages/numpy/core/_methods.py:232: RuntimeWarning: overflow encountered in multiply\n",
      "  x = um.multiply(x, x, out=x)\n",
      "<ipython-input-18-41a35c4ff664>:26: RuntimeWarning: overflow encountered in exp\n",
      "  plt.errorbar(np.arange(20), np.exp(mean_coef), yerr=np.exp(std_coef)/np.sqrt(len(std_coef)), fmt=\"s\")\n",
      "/Users/caballero/opt/anaconda3/envs/ml-short-course/lib/python3.9/site-packages/matplotlib/axes/_axes.py:3411: RuntimeWarning: invalid value encountered in double_scalars\n",
      "  low = [v if lo else v - e for v, e, lo in zip(data, a, lolims)]\n",
      "/Users/caballero/opt/anaconda3/envs/ml-short-course/lib/python3.9/site-packages/numpy/core/_asarray.py:102: UserWarning: Warning: converting a masked element to nan.\n",
      "  return array(a, dtype, copy=False, order=order)\n"
     ]
    },
    {
     "data": {
      "text/plain": [
       "Text(0, 0.5, 'Odds Ratio')"
      ]
     },
     "execution_count": 18,
     "metadata": {},
     "output_type": "execute_result"
    },
    {
     "data": {
      "image/png": "[encoded data removed]",
      "text/plain": [
       "<Figure size 432x288 with 1 Axes>"
      ]
     },
     "metadata": {
      "filenames": {
       "image/png": "/Users/caballero/Repos/teaching/OPSI_ML_workshop/_build/jupyter_execute/notebooks/day-4/Day_4-Multiplicity_of_Models-SOL_33_3.png"
      },
      "needs_background": "light"
     },
     "output_type": "display_data"
    },
    {
     "data": {
      "image/png": "[encoded data removed]",
      "text/plain": [
       "<Figure size 432x288 with 1 Axes>"
      ]
     },
     "metadata": {
      "filenames": {
       "image/png": "/Users/caballero/Repos/teaching/OPSI_ML_workshop/_build/jupyter_execute/notebooks/day-4/Day_4-Multiplicity_of_Models-SOL_33_4.png"
      },
      "needs_background": "light"
     },
     "output_type": "display_data"
    },
    {
     "data": {
      "image/png": "[encoded data removed]",
      "text/plain": [
       "<Figure size 432x288 with 1 Axes>"
      ]
     },
     "metadata": {
      "filenames": {
       "image/png": "/Users/caballero/Repos/teaching/OPSI_ML_workshop/_build/jupyter_execute/notebooks/day-4/Day_4-Multiplicity_of_Models-SOL_33_5.png"
      },
      "needs_background": "light"
     },
     "output_type": "display_data"
    }
   ],
   "source": [
    "### ANSWER ###\n",
    "\n",
    "mean_acc = np.mean(acc_array)\n",
    "std_acc = np.std(acc_array)\n",
    "\n",
    "mean_auc = np.mean(auc_array)\n",
    "std_auc = np.std(auc_array)\n",
    "\n",
    "coef_array\n",
    "mean_coef = np.mean(coef_array, axis=0)\n",
    "std_coef = np.std(coef_array, axis=0)\n",
    "    \n",
    "plt.figure()\n",
    "plt.hist(acc_array)\n",
    "print(\"Mean Accuracy:\", mean_acc, \"+/-\", std_acc)\n",
    "plt.ylabel('Counts')\n",
    "plt.xlabel('ACC')\n",
    "\n",
    "plt.figure()\n",
    "plt.hist(auc_array)\n",
    "print(\"Mean AUC:\", mean_auc, \"+/-\", std_auc)\n",
    "plt.ylabel('Counts')\n",
    "plt.xlabel('AUC')\n",
    "\n",
    "plt.figure()\n",
    "plt.errorbar(np.arange(20), np.exp(mean_coef), yerr=np.exp(std_coef)/np.sqrt(len(std_coef)), fmt=\"s\")\n",
    "plt.hlines(1, -1, 20, 'k')\n",
    "plt.axis([-1,20,0,2])\n",
    "plt.xticks(ticks=np.arange(0,20), \n",
    "           labels=features.columns,\n",
    "           rotation=90)\n",
    "plt.xlabel('Feature Number')\n",
    "plt.ylabel('Odds Ratio')"
   ]
  },
  {
   "cell_type": "markdown",
   "id": "59430985-d922-4232-a496-5d606c8eb242",
   "metadata": {},
   "source": [
    "---\n",
    "## 2. Parameter Tuning\n",
    "\n",
    "Great! Now that we have seen how we can explore our confidence in the model we created, we can now determine if indeed we have the best logisitc regression model we could have. There's a number of parameters that the logisitic regression method can take when you create an instance. Each of them control different aspects of how the model fits.\n",
    "\n",
    "For our purposes, we will just explore if it was ok to use no penalization. Penalization is how a logistic regression model might control for variables that don't matter too much. Penalization tends to shrink model coefficients towards zero if they are small, so it's clear what contributes and what doesn't. \n",
    "\n",
    "To do a little paramter testing we will use `GridSearchCV()`. The method basically wraps any class to a classifier (or regressor) and then lets you tell it, please try all these potential versions. For example, we have four choices of penalization `l1`, `l2`, `elasticnet` (which is `l1` and `l2` at the same time), and `none` (which we have used all along). So we can test all four models simulatneously to see which is the best.\n",
    "\n",
    "I wrote a little code that does that. Notice that `parameters` is basically a set where `penalty` is the variable for the model and the list that follows indicates that type of penalty to try. Once you run `.fit()` the models start being built. Notice combinations of parameters that can't work together will throw warnings (this is normal, but you should chck other warnings!)."
   ]
  },
  {
   "cell_type": "code",
   "execution_count": 19,
   "id": "ba7a7475-dc35-45ac-b29f-47a449c932de",
   "metadata": {},
   "outputs": [
    {
     "name": "stderr",
     "output_type": "stream",
     "text": [
      "/Users/caballero/opt/anaconda3/envs/ml-short-course/lib/python3.9/site-packages/sklearn/model_selection/_validation.py:610: FitFailedWarning: Estimator fit failed. The score on this train-test partition for these parameters will be set to nan. Details: \n",
      "Traceback (most recent call last):\n",
      "  File \"/Users/caballero/opt/anaconda3/envs/ml-short-course/lib/python3.9/site-packages/sklearn/model_selection/_validation.py\", line 593, in _fit_and_score\n",
      "    estimator.fit(X_train, y_train, **fit_params)\n",
      "  File \"/Users/caballero/opt/anaconda3/envs/ml-short-course/lib/python3.9/site-packages/sklearn/linear_model/_logistic.py\", line 1306, in fit\n",
      "    solver = _check_solver(self.solver, self.penalty, self.dual)\n",
      "  File \"/Users/caballero/opt/anaconda3/envs/ml-short-course/lib/python3.9/site-packages/sklearn/linear_model/_logistic.py\", line 443, in _check_solver\n",
      "    raise ValueError(\"Solver %s supports only 'l2' or 'none' penalties, \"\n",
      "ValueError: Solver lbfgs supports only 'l2' or 'none' penalties, got l1 penalty.\n",
      "\n",
      "  warnings.warn(\"Estimator fit failed. The score on this train-test\"\n",
      "/Users/caballero/opt/anaconda3/envs/ml-short-course/lib/python3.9/site-packages/sklearn/model_selection/_validation.py:610: FitFailedWarning: Estimator fit failed. The score on this train-test partition for these parameters will be set to nan. Details: \n",
      "Traceback (most recent call last):\n",
      "  File \"/Users/caballero/opt/anaconda3/envs/ml-short-course/lib/python3.9/site-packages/sklearn/model_selection/_validation.py\", line 593, in _fit_and_score\n",
      "    estimator.fit(X_train, y_train, **fit_params)\n",
      "  File \"/Users/caballero/opt/anaconda3/envs/ml-short-course/lib/python3.9/site-packages/sklearn/linear_model/_logistic.py\", line 1306, in fit\n",
      "    solver = _check_solver(self.solver, self.penalty, self.dual)\n",
      "  File \"/Users/caballero/opt/anaconda3/envs/ml-short-course/lib/python3.9/site-packages/sklearn/linear_model/_logistic.py\", line 443, in _check_solver\n",
      "    raise ValueError(\"Solver %s supports only 'l2' or 'none' penalties, \"\n",
      "ValueError: Solver lbfgs supports only 'l2' or 'none' penalties, got l1 penalty.\n",
      "\n",
      "  warnings.warn(\"Estimator fit failed. The score on this train-test\"\n",
      "/Users/caballero/opt/anaconda3/envs/ml-short-course/lib/python3.9/site-packages/sklearn/model_selection/_validation.py:610: FitFailedWarning: Estimator fit failed. The score on this train-test partition for these parameters will be set to nan. Details: \n",
      "Traceback (most recent call last):\n",
      "  File \"/Users/caballero/opt/anaconda3/envs/ml-short-course/lib/python3.9/site-packages/sklearn/model_selection/_validation.py\", line 593, in _fit_and_score\n",
      "    estimator.fit(X_train, y_train, **fit_params)\n",
      "  File \"/Users/caballero/opt/anaconda3/envs/ml-short-course/lib/python3.9/site-packages/sklearn/linear_model/_logistic.py\", line 1306, in fit\n",
      "    solver = _check_solver(self.solver, self.penalty, self.dual)\n",
      "  File \"/Users/caballero/opt/anaconda3/envs/ml-short-course/lib/python3.9/site-packages/sklearn/linear_model/_logistic.py\", line 443, in _check_solver\n",
      "    raise ValueError(\"Solver %s supports only 'l2' or 'none' penalties, \"\n",
      "ValueError: Solver lbfgs supports only 'l2' or 'none' penalties, got l1 penalty.\n",
      "\n",
      "  warnings.warn(\"Estimator fit failed. The score on this train-test\"\n",
      "/Users/caballero/opt/anaconda3/envs/ml-short-course/lib/python3.9/site-packages/sklearn/model_selection/_validation.py:610: FitFailedWarning: Estimator fit failed. The score on this train-test partition for these parameters will be set to nan. Details: \n",
      "Traceback (most recent call last):\n",
      "  File \"/Users/caballero/opt/anaconda3/envs/ml-short-course/lib/python3.9/site-packages/sklearn/model_selection/_validation.py\", line 593, in _fit_and_score\n",
      "    estimator.fit(X_train, y_train, **fit_params)\n",
      "  File \"/Users/caballero/opt/anaconda3/envs/ml-short-course/lib/python3.9/site-packages/sklearn/linear_model/_logistic.py\", line 1306, in fit\n",
      "    solver = _check_solver(self.solver, self.penalty, self.dual)\n",
      "  File \"/Users/caballero/opt/anaconda3/envs/ml-short-course/lib/python3.9/site-packages/sklearn/linear_model/_logistic.py\", line 443, in _check_solver\n",
      "    raise ValueError(\"Solver %s supports only 'l2' or 'none' penalties, \"\n",
      "ValueError: Solver lbfgs supports only 'l2' or 'none' penalties, got l1 penalty.\n",
      "\n",
      "  warnings.warn(\"Estimator fit failed. The score on this train-test\"\n",
      "/Users/caballero/opt/anaconda3/envs/ml-short-course/lib/python3.9/site-packages/sklearn/model_selection/_validation.py:610: FitFailedWarning: Estimator fit failed. The score on this train-test partition for these parameters will be set to nan. Details: \n",
      "Traceback (most recent call last):\n",
      "  File \"/Users/caballero/opt/anaconda3/envs/ml-short-course/lib/python3.9/site-packages/sklearn/model_selection/_validation.py\", line 593, in _fit_and_score\n",
      "    estimator.fit(X_train, y_train, **fit_params)\n",
      "  File \"/Users/caballero/opt/anaconda3/envs/ml-short-course/lib/python3.9/site-packages/sklearn/linear_model/_logistic.py\", line 1306, in fit\n",
      "    solver = _check_solver(self.solver, self.penalty, self.dual)\n",
      "  File \"/Users/caballero/opt/anaconda3/envs/ml-short-course/lib/python3.9/site-packages/sklearn/linear_model/_logistic.py\", line 443, in _check_solver\n",
      "    raise ValueError(\"Solver %s supports only 'l2' or 'none' penalties, \"\n",
      "ValueError: Solver lbfgs supports only 'l2' or 'none' penalties, got l1 penalty.\n",
      "\n",
      "  warnings.warn(\"Estimator fit failed. The score on this train-test\"\n",
      "/Users/caballero/opt/anaconda3/envs/ml-short-course/lib/python3.9/site-packages/sklearn/model_selection/_validation.py:610: FitFailedWarning: Estimator fit failed. The score on this train-test partition for these parameters will be set to nan. Details: \n",
      "Traceback (most recent call last):\n",
      "  File \"/Users/caballero/opt/anaconda3/envs/ml-short-course/lib/python3.9/site-packages/sklearn/model_selection/_validation.py\", line 593, in _fit_and_score\n",
      "    estimator.fit(X_train, y_train, **fit_params)\n",
      "  File \"/Users/caballero/opt/anaconda3/envs/ml-short-course/lib/python3.9/site-packages/sklearn/linear_model/_logistic.py\", line 1306, in fit\n",
      "    solver = _check_solver(self.solver, self.penalty, self.dual)\n",
      "  File \"/Users/caballero/opt/anaconda3/envs/ml-short-course/lib/python3.9/site-packages/sklearn/linear_model/_logistic.py\", line 443, in _check_solver\n",
      "    raise ValueError(\"Solver %s supports only 'l2' or 'none' penalties, \"\n",
      "ValueError: Solver lbfgs supports only 'l2' or 'none' penalties, got elasticnet penalty.\n",
      "\n",
      "  warnings.warn(\"Estimator fit failed. The score on this train-test\"\n",
      "/Users/caballero/opt/anaconda3/envs/ml-short-course/lib/python3.9/site-packages/sklearn/model_selection/_validation.py:610: FitFailedWarning: Estimator fit failed. The score on this train-test partition for these parameters will be set to nan. Details: \n",
      "Traceback (most recent call last):\n",
      "  File \"/Users/caballero/opt/anaconda3/envs/ml-short-course/lib/python3.9/site-packages/sklearn/model_selection/_validation.py\", line 593, in _fit_and_score\n",
      "    estimator.fit(X_train, y_train, **fit_params)\n",
      "  File \"/Users/caballero/opt/anaconda3/envs/ml-short-course/lib/python3.9/site-packages/sklearn/linear_model/_logistic.py\", line 1306, in fit\n",
      "    solver = _check_solver(self.solver, self.penalty, self.dual)\n",
      "  File \"/Users/caballero/opt/anaconda3/envs/ml-short-course/lib/python3.9/site-packages/sklearn/linear_model/_logistic.py\", line 443, in _check_solver\n",
      "    raise ValueError(\"Solver %s supports only 'l2' or 'none' penalties, \"\n",
      "ValueError: Solver lbfgs supports only 'l2' or 'none' penalties, got elasticnet penalty.\n",
      "\n",
      "  warnings.warn(\"Estimator fit failed. The score on this train-test\"\n",
      "/Users/caballero/opt/anaconda3/envs/ml-short-course/lib/python3.9/site-packages/sklearn/model_selection/_validation.py:610: FitFailedWarning: Estimator fit failed. The score on this train-test partition for these parameters will be set to nan. Details: \n",
      "Traceback (most recent call last):\n",
      "  File \"/Users/caballero/opt/anaconda3/envs/ml-short-course/lib/python3.9/site-packages/sklearn/model_selection/_validation.py\", line 593, in _fit_and_score\n",
      "    estimator.fit(X_train, y_train, **fit_params)\n",
      "  File \"/Users/caballero/opt/anaconda3/envs/ml-short-course/lib/python3.9/site-packages/sklearn/linear_model/_logistic.py\", line 1306, in fit\n",
      "    solver = _check_solver(self.solver, self.penalty, self.dual)\n",
      "  File \"/Users/caballero/opt/anaconda3/envs/ml-short-course/lib/python3.9/site-packages/sklearn/linear_model/_logistic.py\", line 443, in _check_solver\n",
      "    raise ValueError(\"Solver %s supports only 'l2' or 'none' penalties, \"\n",
      "ValueError: Solver lbfgs supports only 'l2' or 'none' penalties, got elasticnet penalty.\n",
      "\n",
      "  warnings.warn(\"Estimator fit failed. The score on this train-test\"\n",
      "/Users/caballero/opt/anaconda3/envs/ml-short-course/lib/python3.9/site-packages/sklearn/model_selection/_validation.py:610: FitFailedWarning: Estimator fit failed. The score on this train-test partition for these parameters will be set to nan. Details: \n",
      "Traceback (most recent call last):\n",
      "  File \"/Users/caballero/opt/anaconda3/envs/ml-short-course/lib/python3.9/site-packages/sklearn/model_selection/_validation.py\", line 593, in _fit_and_score\n",
      "    estimator.fit(X_train, y_train, **fit_params)\n",
      "  File \"/Users/caballero/opt/anaconda3/envs/ml-short-course/lib/python3.9/site-packages/sklearn/linear_model/_logistic.py\", line 1306, in fit\n",
      "    solver = _check_solver(self.solver, self.penalty, self.dual)\n",
      "  File \"/Users/caballero/opt/anaconda3/envs/ml-short-course/lib/python3.9/site-packages/sklearn/linear_model/_logistic.py\", line 443, in _check_solver\n",
      "    raise ValueError(\"Solver %s supports only 'l2' or 'none' penalties, \"\n",
      "ValueError: Solver lbfgs supports only 'l2' or 'none' penalties, got elasticnet penalty.\n",
      "\n",
      "  warnings.warn(\"Estimator fit failed. The score on this train-test\"\n",
      "/Users/caballero/opt/anaconda3/envs/ml-short-course/lib/python3.9/site-packages/sklearn/model_selection/_validation.py:610: FitFailedWarning: Estimator fit failed. The score on this train-test partition for these parameters will be set to nan. Details: \n",
      "Traceback (most recent call last):\n",
      "  File \"/Users/caballero/opt/anaconda3/envs/ml-short-course/lib/python3.9/site-packages/sklearn/model_selection/_validation.py\", line 593, in _fit_and_score\n",
      "    estimator.fit(X_train, y_train, **fit_params)\n",
      "  File \"/Users/caballero/opt/anaconda3/envs/ml-short-course/lib/python3.9/site-packages/sklearn/linear_model/_logistic.py\", line 1306, in fit\n",
      "    solver = _check_solver(self.solver, self.penalty, self.dual)\n",
      "  File \"/Users/caballero/opt/anaconda3/envs/ml-short-course/lib/python3.9/site-packages/sklearn/linear_model/_logistic.py\", line 443, in _check_solver\n",
      "    raise ValueError(\"Solver %s supports only 'l2' or 'none' penalties, \"\n",
      "ValueError: Solver lbfgs supports only 'l2' or 'none' penalties, got elasticnet penalty.\n",
      "\n",
      "  warnings.warn(\"Estimator fit failed. The score on this train-test\"\n",
      "/Users/caballero/opt/anaconda3/envs/ml-short-course/lib/python3.9/site-packages/sklearn/model_selection/_search.py:918: UserWarning: One or more of the test scores are non-finite: [  nan 0.842   nan 0.841]\n",
      "  warnings.warn(\n"
     ]
    },
    {
     "data": {
      "text/plain": [
       "GridSearchCV(estimator=LogisticRegression(),\n",
       "             param_grid=[{'penalty': ['l1', 'l2', 'elasticnet', 'none']}])"
      ]
     },
     "execution_count": 19,
     "metadata": {},
     "output_type": "execute_result"
    }
   ],
   "source": [
    "parameters = [\n",
    "    {'penalty': ['l1', 'l2', 'elasticnet', 'none']},\n",
    "]\n",
    "\n",
    "LR_tuned = LogisticRegression()\n",
    "clf = GridSearchCV(LR_tuned, parameters)\n",
    "clf.fit(features, classes['label'])"
   ]
  },
  {
   "cell_type": "markdown",
   "id": "adee0a1f-c475-4573-a50f-ab30a6b4ab68",
   "metadata": {},
   "source": [
    "At the end of all this, we get call back with the parameter grid we created. Notice that if we had another parameter to set, `GridSearchCV` will try to run all parameter combinations. So that each new parameter is multiplicative leading to many models quite fast. So be careful here!\n",
    "\n",
    "For example, consider we had three paramters, one that had two settings, one with three, and one with five. If you call a grid search with these paramters, you will be asking `sklearn` to create an run 2x3x5 models (30 models). If you have another parameter you want to try that has another 4 settings, you are up to 120 models!\n",
    "\n",
    "### 2.1 Results of a Grid Search\n",
    "\n",
    "In any event, after running this, we can find the `best_estimator_` and the `best_score_`. The `best_estimator` is the call you should use for the best model tested. If any settings are the default, they will not appear in the parentheses. The `best_score_` is the accuracy of that model. Of course, you can get more details (like above) if you choose that best model and run it through Monte Carlo validation."
   ]
  },
  {
   "cell_type": "code",
   "execution_count": 20,
   "id": "48b70ed6-0d3a-4e38-a192-971624420da1",
   "metadata": {},
   "outputs": [
    {
     "name": "stdout",
     "output_type": "stream",
     "text": [
      "LogisticRegression()\n",
      "0.842\n"
     ]
    }
   ],
   "source": [
    "print(clf.best_estimator_)\n",
    "print(clf.best_score_)"
   ]
  },
  {
   "cell_type": "markdown",
   "id": "b031fb29-956a-4ca6-b2c8-3dedf39c2cbb",
   "metadata": {},
   "source": [
    "### 2.2 What about other classifiers?\n",
    "\n",
    "There are many other classifers we can try on the same problem to see how well they do. There's many out there and there's lots of nuance to understand about each if you are going to use them. We will use K Nearest Neighbors, Supprt Vector Machines, and a Random Forest Classifier. To learn more about each, I'd suggest these videos:\n",
    "\n",
    "* [KNN](https://www.youtube.com/watch?v=HVXime0nQeI)\n",
    "* [SVM](https://www.youtube.com/watch?v=efR1C6CvhmE)\n",
    "* [Random Forest](https://www.youtube.com/watch?v=J4Wdy0Wc_xQ)\n",
    "\n",
    "Let's import the necessary libraries and test things with KNN. Then you can write code for the Support Vector Machine, and the Random Forest."
   ]
  },
  {
   "cell_type": "code",
   "execution_count": 21,
   "id": "a52a939b-7964-412e-a0a1-88d3ff416efa",
   "metadata": {},
   "outputs": [],
   "source": [
    "from sklearn.neighbors import KNeighborsClassifier\n",
    "from sklearn.svm import SVC, LinearSVC\n",
    "from sklearn.ensemble import RandomForestClassifier"
   ]
  },
  {
   "cell_type": "markdown",
   "id": "0bc5971b-2210-4668-8b21-36cbcf39cfd3",
   "metadata": {},
   "source": [
    "#### 2.2.1 KNN\n",
    "\n",
    "As we did previously we can vary the number of neighbors from the default of 5 (always good to know the defaults of the models you are calling). But this time we will use `GridSearchCV`. I've written the code to do this below. You can adapt it for other models in the next sections as you like."
   ]
  },
  {
   "cell_type": "code",
   "execution_count": 22,
   "id": "3d42f30b-b3e4-47a6-8a88-880770d84be2",
   "metadata": {},
   "outputs": [
    {
     "name": "stdout",
     "output_type": "stream",
     "text": [
      "KNeighborsClassifier(n_neighbors=7)\n",
      "0.9110000000000001\n"
     ]
    }
   ],
   "source": [
    "## Sweep through 2 to 20 neighbors\n",
    "\n",
    "parameters = [\n",
    "    {'n_neighbors': np.arange(2,21)}\n",
    "]\n",
    "\n",
    "## Create the Grid Search and fit it\n",
    "KNN_tuned = KNeighborsClassifier()\n",
    "clf = GridSearchCV(KNN_tuned, parameters)\n",
    "clf.fit(features, classes['label'])\n",
    "\n",
    "## Determine the best estimator\n",
    "BestKNN = clf.best_estimator_\n",
    "print(BestKNN)\n",
    "print(clf.best_score_)"
   ]
  },
  {
   "cell_type": "markdown",
   "id": "c4f41e38-c03b-4dbb-83bc-199f07fd971a",
   "metadata": {},
   "source": [
    "We can now use the best model to do Monte Carlo Validation and plot the distributions."
   ]
  },
  {
   "cell_type": "code",
   "execution_count": 23,
   "id": "e9a8c1c3-919e-4350-a93f-525050d564df",
   "metadata": {},
   "outputs": [
    {
     "data": {
      "text/plain": [
       "(0.912, 0.9116380695328065)"
      ]
     },
     "execution_count": 23,
     "metadata": {},
     "output_type": "execute_result"
    }
   ],
   "source": [
    "def RunKNN(features, classes):\n",
    "    \n",
    "    x_train, x_test, y_train, y_test = train_test_split(features, classes)\n",
    "    KNN = BestKNN\n",
    "    KNN.fit(x_train, y_train)\n",
    "    y_pred = KNN.predict(x_test)\n",
    "    \n",
    "    return accuracy_score(y_test, y_pred), roc_auc_score(y_test, y_pred)\n",
    "\n",
    "RunKNN(features, classes['label'])"
   ]
  },
  {
   "cell_type": "code",
   "execution_count": 24,
   "id": "39d13cb9-0bc2-4358-96b4-9afcb43492c3",
   "metadata": {},
   "outputs": [
    {
     "name": "stdout",
     "output_type": "stream",
     "text": [
      "Mean Accuracy: 0.90656 +/- 0.01794676572533336\n",
      "Mean AUC: 0.9068908227569153 +/- 0.01789355995825222\n"
     ]
    },
    {
     "data": {
      "text/plain": [
       "Text(0.5, 0, 'AUC')"
      ]
     },
     "execution_count": 24,
     "metadata": {},
     "output_type": "execute_result"
    },
    {
     "data": {
      "image/png": "[encoded data removed]",
      "text/plain": [
       "<Figure size 432x288 with 1 Axes>"
      ]
     },
     "metadata": {
      "filenames": {
       "image/png": "/Users/caballero/Repos/teaching/OPSI_ML_workshop/_build/jupyter_execute/notebooks/day-4/Day_4-Multiplicity_of_Models-SOL_44_2.png"
      },
      "needs_background": "light"
     },
     "output_type": "display_data"
    },
    {
     "data": {
      "image/png": "[encoded data removed]",
      "text/plain": [
       "<Figure size 432x288 with 1 Axes>"
      ]
     },
     "metadata": {
      "filenames": {
       "image/png": "/Users/caballero/Repos/teaching/OPSI_ML_workshop/_build/jupyter_execute/notebooks/day-4/Day_4-Multiplicity_of_Models-SOL_44_3.png"
      },
      "needs_background": "light"
     },
     "output_type": "display_data"
    }
   ],
   "source": [
    "N = 300\n",
    "acc = 0\n",
    "auc = 0\n",
    "acc_array = np.empty((0,N), float)\n",
    "auc_array = np.empty((0,N), float)\n",
    "\n",
    "for i in range(N):\n",
    "    \n",
    "    acc, auc = RunKNN(features, classes['label'])\n",
    "    acc_array = np.append(acc_array,acc)\n",
    "    auc_array = np.append(auc_array,auc)\n",
    "    \n",
    "    \n",
    "mean_acc = np.mean(acc_array)\n",
    "std_acc = np.std(acc_array)\n",
    "\n",
    "mean_auc = np.mean(auc_array)\n",
    "std_auc = np.std(auc_array)\n",
    "    \n",
    "plt.figure()\n",
    "plt.hist(acc_array)\n",
    "print(\"Mean Accuracy:\", mean_acc, \"+/-\", std_acc)\n",
    "plt.ylabel('Counts')\n",
    "plt.xlabel('ACC')\n",
    "\n",
    "plt.figure()\n",
    "plt.hist(auc_array)\n",
    "print(\"Mean AUC:\", mean_auc, \"+/-\", std_auc)\n",
    "plt.ylabel('Counts')\n",
    "plt.xlabel('AUC')"
   ]
  },
  {
   "cell_type": "markdown",
   "id": "e5e0745f-567b-40a7-b785-bd8cc8c878df",
   "metadata": {},
   "source": [
    "#### 2.2.2 LinearSVC\n",
    "\n",
    "<font size=+3>&#9998;</font> **Do this:** For the `LinearSVC()` model, repeat the work above to determine the distribution of accuracies and aucs for the model. Use `GridSearchCV()` to vary the `C` parameter and find the best model. [Linear SVC Documentation](https://scikit-learn.org/stable/modules/generated/sklearn.svm.LinearSVC.html)"
   ]
  },
  {
   "cell_type": "code",
   "execution_count": 25,
   "id": "bf98695b-d4b2-4b5c-b0f6-784311b8ebfb",
   "metadata": {},
   "outputs": [],
   "source": [
    "### your code here"
   ]
  },
  {
   "cell_type": "code",
   "execution_count": 26,
   "id": "1e219e35-353c-42b5-8d75-c2488523c95a",
   "metadata": {},
   "outputs": [
    {
     "name": "stdout",
     "output_type": "stream",
     "text": [
      "LinearSVC(C=1, max_iter=50000)\n",
      "0.8400000000000001\n"
     ]
    }
   ],
   "source": [
    "### ANSWER ###\n",
    "\n",
    "parameters = [\n",
    "    {'C': [0.001, 0.01, 0.1, 1, 10]}\n",
    "]\n",
    "\n",
    "SVM_tuned = LinearSVC(max_iter=50000)\n",
    "clf = GridSearchCV(SVM_tuned, parameters)\n",
    "clf.fit(features, classes['label'])\n",
    "\n",
    "BestSVM = clf.best_estimator_\n",
    "print(BestSVM)\n",
    "print(clf.best_score_)"
   ]
  },
  {
   "cell_type": "code",
   "execution_count": 27,
   "id": "3a698e01-d28b-4a9d-8a8e-89a19f155672",
   "metadata": {},
   "outputs": [
    {
     "data": {
      "text/plain": [
       "(0.824, 0.8243589743589743)"
      ]
     },
     "execution_count": 27,
     "metadata": {},
     "output_type": "execute_result"
    }
   ],
   "source": [
    "### ANSWER ###\n",
    "\n",
    "def RunLinSVC(features, classes):\n",
    "    \n",
    "    x_train, x_test, y_train, y_test = train_test_split(features, classes)\n",
    "    SVM = BestSVM\n",
    "    SVM.fit(x_train, y_train)\n",
    "    y_pred = SVM.predict(x_test)\n",
    "    \n",
    "    return accuracy_score(y_test, y_pred), roc_auc_score(y_test, y_pred)\n",
    "\n",
    "RunLinSVC(features, classes['label'])"
   ]
  },
  {
   "cell_type": "code",
   "execution_count": 28,
   "id": "786508ee-515c-43c8-8593-5a379a798b60",
   "metadata": {},
   "outputs": [
    {
     "name": "stdout",
     "output_type": "stream",
     "text": [
      "Mean Accuracy: 0.8366533333333334 +/- 0.021953887026118068\n",
      "Mean AUC: 0.8368508073669565 +/- 0.021975315690476994\n"
     ]
    },
    {
     "data": {
      "text/plain": [
       "Text(0.5, 0, 'AUC')"
      ]
     },
     "execution_count": 28,
     "metadata": {},
     "output_type": "execute_result"
    },
    {
     "data": {
      "image/png": "[encoded data removed]",
      "text/plain": [
       "<Figure size 432x288 with 1 Axes>"
      ]
     },
     "metadata": {
      "filenames": {
       "image/png": "/Users/caballero/Repos/teaching/OPSI_ML_workshop/_build/jupyter_execute/notebooks/day-4/Day_4-Multiplicity_of_Models-SOL_49_2.png"
      },
      "needs_background": "light"
     },
     "output_type": "display_data"
    },
    {
     "data": {
      "image/png": "[encoded data removed]",
      "text/plain": [
       "<Figure size 432x288 with 1 Axes>"
      ]
     },
     "metadata": {
      "filenames": {
       "image/png": "/Users/caballero/Repos/teaching/OPSI_ML_workshop/_build/jupyter_execute/notebooks/day-4/Day_4-Multiplicity_of_Models-SOL_49_3.png"
      },
      "needs_background": "light"
     },
     "output_type": "display_data"
    }
   ],
   "source": [
    "### ANSWER ###\n",
    "\n",
    "N = 300\n",
    "acc = 0\n",
    "auc = 0\n",
    "acc_array = np.empty((0,N), float)\n",
    "auc_array = np.empty((0,N), float)\n",
    "\n",
    "for i in range(N):\n",
    "    \n",
    "    acc, auc = RunLinSVC(features, classes['label'])\n",
    "    acc_array = np.append(acc_array,acc)\n",
    "    auc_array = np.append(auc_array,auc)\n",
    "    \n",
    "    \n",
    "mean_acc = np.mean(acc_array)\n",
    "std_acc = np.std(acc_array)\n",
    "\n",
    "mean_auc = np.mean(auc_array)\n",
    "std_auc = np.std(auc_array)\n",
    "    \n",
    "plt.figure()\n",
    "plt.hist(acc_array)\n",
    "print(\"Mean Accuracy:\", mean_acc, \"+/-\", std_acc)\n",
    "plt.ylabel('Counts')\n",
    "plt.xlabel('ACC')\n",
    "\n",
    "plt.figure()\n",
    "plt.hist(auc_array)\n",
    "print(\"Mean AUC:\", mean_auc, \"+/-\", std_auc)\n",
    "plt.ylabel('Counts')\n",
    "plt.xlabel('AUC')"
   ]
  },
  {
   "cell_type": "markdown",
   "id": "954c0c32-4daa-4ee6-9e20-54d721fcb591",
   "metadata": {},
   "source": [
    "#### 2.2.3 Random Forest\n",
    "\n",
    "<font size=+3>&#9998;</font> **Do this:** For the `RandomForestClassifier()` model, repeat the work above to determine the distribution of accuracies and aucs for the model. Use `GridSearchCV()` to vary the `n_estimators` parameter and find the best model. [Random Forest Documentation](https://scikit-learn.org/stable/modules/generated/sklearn.ensemble.RandomForestClassifier.html)"
   ]
  },
  {
   "cell_type": "code",
   "execution_count": 29,
   "id": "cb003598-bbcf-413c-851f-b24d1c3089c8",
   "metadata": {},
   "outputs": [],
   "source": [
    "## your code here"
   ]
  },
  {
   "cell_type": "code",
   "execution_count": 30,
   "id": "52e9b632-0143-48b7-9114-f6e6260d4ed3",
   "metadata": {},
   "outputs": [
    {
     "name": "stdout",
     "output_type": "stream",
     "text": [
      "RandomForestClassifier(max_features='sqrt')\n",
      "0.9359999999999999\n"
     ]
    }
   ],
   "source": [
    "### ANSWER ####\n",
    "parameters = [\n",
    "    {'n_estimators': [10, 50, 100, 200]},\n",
    "    {'criterion' : ['gini', 'entropy']},\n",
    "    {'max_features': ['auto', 'sqrt', 'log2']}\n",
    "]\n",
    "\n",
    "RF_tuned = RandomForestClassifier()\n",
    "clf = GridSearchCV(RF_tuned, parameters)\n",
    "clf.fit(features, classes['label'])\n",
    "\n",
    "BestRF = clf.best_estimator_\n",
    "print(BestRF)\n",
    "print(clf.best_score_)"
   ]
  },
  {
   "cell_type": "code",
   "execution_count": 31,
   "id": "478d4750-219c-442f-80ba-64f30c75a7f3",
   "metadata": {},
   "outputs": [
    {
     "data": {
      "text/plain": [
       "(0.944, 0.9444551220449741)"
      ]
     },
     "execution_count": 31,
     "metadata": {},
     "output_type": "execute_result"
    }
   ],
   "source": [
    "### ANSWER ####\n",
    "def RunRF(features, classes):\n",
    "    \n",
    "    x_train, x_test, y_train, y_test = train_test_split(features, classes)\n",
    "    RF = BestRF\n",
    "    RF.fit(x_train, y_train)\n",
    "    y_pred = RF.predict(x_test)\n",
    "    \n",
    "    return accuracy_score(y_test, y_pred), roc_auc_score(y_test, y_pred)\n",
    "\n",
    "RunRF(features, classes['label'])"
   ]
  },
  {
   "cell_type": "code",
   "execution_count": 32,
   "id": "be245603-bda2-48b0-9cbb-790858e73a7d",
   "metadata": {},
   "outputs": [
    {
     "ename": "KeyboardInterrupt",
     "evalue": "",
     "output_type": "error",
     "traceback": [
      "\u001b[0;31m---------------------------------------------------------------------------\u001b[0m",
      "\u001b[0;31mKeyboardInterrupt\u001b[0m                         Traceback (most recent call last)",
      "\u001b[0;32m<ipython-input-32-36993ebb1aba>\u001b[0m in \u001b[0;36m<module>\u001b[0;34m\u001b[0m\n\u001b[1;32m      8\u001b[0m \u001b[0;32mfor\u001b[0m \u001b[0mi\u001b[0m \u001b[0;32min\u001b[0m \u001b[0mrange\u001b[0m\u001b[0;34m(\u001b[0m\u001b[0mN\u001b[0m\u001b[0;34m)\u001b[0m\u001b[0;34m:\u001b[0m\u001b[0;34m\u001b[0m\u001b[0;34m\u001b[0m\u001b[0m\n\u001b[1;32m      9\u001b[0m \u001b[0;34m\u001b[0m\u001b[0m\n\u001b[0;32m---> 10\u001b[0;31m     \u001b[0macc\u001b[0m\u001b[0;34m,\u001b[0m \u001b[0mauc\u001b[0m \u001b[0;34m=\u001b[0m \u001b[0mRunRF\u001b[0m\u001b[0;34m(\u001b[0m\u001b[0mfeatures\u001b[0m\u001b[0;34m,\u001b[0m \u001b[0mclasses\u001b[0m\u001b[0;34m[\u001b[0m\u001b[0;34m'label'\u001b[0m\u001b[0;34m]\u001b[0m\u001b[0;34m)\u001b[0m\u001b[0;34m\u001b[0m\u001b[0;34m\u001b[0m\u001b[0m\n\u001b[0m\u001b[1;32m     11\u001b[0m     \u001b[0macc_array\u001b[0m \u001b[0;34m=\u001b[0m \u001b[0mnp\u001b[0m\u001b[0;34m.\u001b[0m\u001b[0mappend\u001b[0m\u001b[0;34m(\u001b[0m\u001b[0macc_array\u001b[0m\u001b[0;34m,\u001b[0m\u001b[0macc\u001b[0m\u001b[0;34m)\u001b[0m\u001b[0;34m\u001b[0m\u001b[0;34m\u001b[0m\u001b[0m\n\u001b[1;32m     12\u001b[0m     \u001b[0mauc_array\u001b[0m \u001b[0;34m=\u001b[0m \u001b[0mnp\u001b[0m\u001b[0;34m.\u001b[0m\u001b[0mappend\u001b[0m\u001b[0;34m(\u001b[0m\u001b[0mauc_array\u001b[0m\u001b[0;34m,\u001b[0m\u001b[0mauc\u001b[0m\u001b[0;34m)\u001b[0m\u001b[0;34m\u001b[0m\u001b[0;34m\u001b[0m\u001b[0m\n",
      "\u001b[0;32m<ipython-input-31-06de012cb42f>\u001b[0m in \u001b[0;36mRunRF\u001b[0;34m(features, classes)\u001b[0m\n\u001b[1;32m      4\u001b[0m     \u001b[0mx_train\u001b[0m\u001b[0;34m,\u001b[0m \u001b[0mx_test\u001b[0m\u001b[0;34m,\u001b[0m \u001b[0my_train\u001b[0m\u001b[0;34m,\u001b[0m \u001b[0my_test\u001b[0m \u001b[0;34m=\u001b[0m \u001b[0mtrain_test_split\u001b[0m\u001b[0;34m(\u001b[0m\u001b[0mfeatures\u001b[0m\u001b[0;34m,\u001b[0m \u001b[0mclasses\u001b[0m\u001b[0;34m)\u001b[0m\u001b[0;34m\u001b[0m\u001b[0;34m\u001b[0m\u001b[0m\n\u001b[1;32m      5\u001b[0m     \u001b[0mRF\u001b[0m \u001b[0;34m=\u001b[0m \u001b[0mBestRF\u001b[0m\u001b[0;34m\u001b[0m\u001b[0;34m\u001b[0m\u001b[0m\n\u001b[0;32m----> 6\u001b[0;31m     \u001b[0mRF\u001b[0m\u001b[0;34m.\u001b[0m\u001b[0mfit\u001b[0m\u001b[0;34m(\u001b[0m\u001b[0mx_train\u001b[0m\u001b[0;34m,\u001b[0m \u001b[0my_train\u001b[0m\u001b[0;34m)\u001b[0m\u001b[0;34m\u001b[0m\u001b[0;34m\u001b[0m\u001b[0m\n\u001b[0m\u001b[1;32m      7\u001b[0m     \u001b[0my_pred\u001b[0m \u001b[0;34m=\u001b[0m \u001b[0mRF\u001b[0m\u001b[0;34m.\u001b[0m\u001b[0mpredict\u001b[0m\u001b[0;34m(\u001b[0m\u001b[0mx_test\u001b[0m\u001b[0;34m)\u001b[0m\u001b[0;34m\u001b[0m\u001b[0;34m\u001b[0m\u001b[0m\n\u001b[1;32m      8\u001b[0m \u001b[0;34m\u001b[0m\u001b[0m\n",
      "\u001b[0;32m~/opt/anaconda3/envs/ml-short-course/lib/python3.9/site-packages/sklearn/ensemble/_forest.py\u001b[0m in \u001b[0;36mfit\u001b[0;34m(self, X, y, sample_weight)\u001b[0m\n\u001b[1;32m    385\u001b[0m             \u001b[0;31m# parallel_backend contexts set at a higher level,\u001b[0m\u001b[0;34m\u001b[0m\u001b[0;34m\u001b[0m\u001b[0;34m\u001b[0m\u001b[0m\n\u001b[1;32m    386\u001b[0m             \u001b[0;31m# since correctness does not rely on using threads.\u001b[0m\u001b[0;34m\u001b[0m\u001b[0;34m\u001b[0m\u001b[0;34m\u001b[0m\u001b[0m\n\u001b[0;32m--> 387\u001b[0;31m             trees = Parallel(n_jobs=self.n_jobs, verbose=self.verbose,\n\u001b[0m\u001b[1;32m    388\u001b[0m                              \u001b[0;34m**\u001b[0m\u001b[0m_joblib_parallel_args\u001b[0m\u001b[0;34m(\u001b[0m\u001b[0mprefer\u001b[0m\u001b[0;34m=\u001b[0m\u001b[0;34m'threads'\u001b[0m\u001b[0;34m)\u001b[0m\u001b[0;34m)\u001b[0m\u001b[0;34m(\u001b[0m\u001b[0;34m\u001b[0m\u001b[0;34m\u001b[0m\u001b[0m\n\u001b[1;32m    389\u001b[0m                 delayed(_parallel_build_trees)(\n",
      "\u001b[0;32m~/opt/anaconda3/envs/ml-short-course/lib/python3.9/site-packages/joblib/parallel.py\u001b[0m in \u001b[0;36m__call__\u001b[0;34m(self, iterable)\u001b[0m\n\u001b[1;32m   1042\u001b[0m                 \u001b[0mself\u001b[0m\u001b[0;34m.\u001b[0m\u001b[0m_iterating\u001b[0m \u001b[0;34m=\u001b[0m \u001b[0mself\u001b[0m\u001b[0;34m.\u001b[0m\u001b[0m_original_iterator\u001b[0m \u001b[0;32mis\u001b[0m \u001b[0;32mnot\u001b[0m \u001b[0;32mNone\u001b[0m\u001b[0;34m\u001b[0m\u001b[0;34m\u001b[0m\u001b[0m\n\u001b[1;32m   1043\u001b[0m \u001b[0;34m\u001b[0m\u001b[0m\n\u001b[0;32m-> 1044\u001b[0;31m             \u001b[0;32mwhile\u001b[0m \u001b[0mself\u001b[0m\u001b[0;34m.\u001b[0m\u001b[0mdispatch_one_batch\u001b[0m\u001b[0;34m(\u001b[0m\u001b[0miterator\u001b[0m\u001b[0;34m)\u001b[0m\u001b[0;34m:\u001b[0m\u001b[0;34m\u001b[0m\u001b[0;34m\u001b[0m\u001b[0m\n\u001b[0m\u001b[1;32m   1045\u001b[0m                 \u001b[0;32mpass\u001b[0m\u001b[0;34m\u001b[0m\u001b[0;34m\u001b[0m\u001b[0m\n\u001b[1;32m   1046\u001b[0m \u001b[0;34m\u001b[0m\u001b[0m\n",
      "\u001b[0;32m~/opt/anaconda3/envs/ml-short-course/lib/python3.9/site-packages/joblib/parallel.py\u001b[0m in \u001b[0;36mdispatch_one_batch\u001b[0;34m(self, iterator)\u001b[0m\n\u001b[1;32m    857\u001b[0m                 \u001b[0;32mreturn\u001b[0m \u001b[0;32mFalse\u001b[0m\u001b[0;34m\u001b[0m\u001b[0;34m\u001b[0m\u001b[0m\n\u001b[1;32m    858\u001b[0m             \u001b[0;32melse\u001b[0m\u001b[0;34m:\u001b[0m\u001b[0;34m\u001b[0m\u001b[0;34m\u001b[0m\u001b[0m\n\u001b[0;32m--> 859\u001b[0;31m                 \u001b[0mself\u001b[0m\u001b[0;34m.\u001b[0m\u001b[0m_dispatch\u001b[0m\u001b[0;34m(\u001b[0m\u001b[0mtasks\u001b[0m\u001b[0;34m)\u001b[0m\u001b[0;34m\u001b[0m\u001b[0;34m\u001b[0m\u001b[0m\n\u001b[0m\u001b[1;32m    860\u001b[0m                 \u001b[0;32mreturn\u001b[0m \u001b[0;32mTrue\u001b[0m\u001b[0;34m\u001b[0m\u001b[0;34m\u001b[0m\u001b[0m\n\u001b[1;32m    861\u001b[0m \u001b[0;34m\u001b[0m\u001b[0m\n",
      "\u001b[0;32m~/opt/anaconda3/envs/ml-short-course/lib/python3.9/site-packages/joblib/parallel.py\u001b[0m in \u001b[0;36m_dispatch\u001b[0;34m(self, batch)\u001b[0m\n\u001b[1;32m    775\u001b[0m         \u001b[0;32mwith\u001b[0m \u001b[0mself\u001b[0m\u001b[0;34m.\u001b[0m\u001b[0m_lock\u001b[0m\u001b[0;34m:\u001b[0m\u001b[0;34m\u001b[0m\u001b[0;34m\u001b[0m\u001b[0m\n\u001b[1;32m    776\u001b[0m             \u001b[0mjob_idx\u001b[0m \u001b[0;34m=\u001b[0m \u001b[0mlen\u001b[0m\u001b[0;34m(\u001b[0m\u001b[0mself\u001b[0m\u001b[0;34m.\u001b[0m\u001b[0m_jobs\u001b[0m\u001b[0;34m)\u001b[0m\u001b[0;34m\u001b[0m\u001b[0;34m\u001b[0m\u001b[0m\n\u001b[0;32m--> 777\u001b[0;31m             \u001b[0mjob\u001b[0m \u001b[0;34m=\u001b[0m \u001b[0mself\u001b[0m\u001b[0;34m.\u001b[0m\u001b[0m_backend\u001b[0m\u001b[0;34m.\u001b[0m\u001b[0mapply_async\u001b[0m\u001b[0;34m(\u001b[0m\u001b[0mbatch\u001b[0m\u001b[0;34m,\u001b[0m \u001b[0mcallback\u001b[0m\u001b[0;34m=\u001b[0m\u001b[0mcb\u001b[0m\u001b[0;34m)\u001b[0m\u001b[0;34m\u001b[0m\u001b[0;34m\u001b[0m\u001b[0m\n\u001b[0m\u001b[1;32m    778\u001b[0m             \u001b[0;31m# A job can complete so quickly than its callback is\u001b[0m\u001b[0;34m\u001b[0m\u001b[0;34m\u001b[0m\u001b[0;34m\u001b[0m\u001b[0m\n\u001b[1;32m    779\u001b[0m             \u001b[0;31m# called before we get here, causing self._jobs to\u001b[0m\u001b[0;34m\u001b[0m\u001b[0;34m\u001b[0m\u001b[0;34m\u001b[0m\u001b[0m\n",
      "\u001b[0;32m~/opt/anaconda3/envs/ml-short-course/lib/python3.9/site-packages/joblib/_parallel_backends.py\u001b[0m in \u001b[0;36mapply_async\u001b[0;34m(self, func, callback)\u001b[0m\n\u001b[1;32m    206\u001b[0m     \u001b[0;32mdef\u001b[0m \u001b[0mapply_async\u001b[0m\u001b[0;34m(\u001b[0m\u001b[0mself\u001b[0m\u001b[0;34m,\u001b[0m \u001b[0mfunc\u001b[0m\u001b[0;34m,\u001b[0m \u001b[0mcallback\u001b[0m\u001b[0;34m=\u001b[0m\u001b[0;32mNone\u001b[0m\u001b[0;34m)\u001b[0m\u001b[0;34m:\u001b[0m\u001b[0;34m\u001b[0m\u001b[0;34m\u001b[0m\u001b[0m\n\u001b[1;32m    207\u001b[0m         \u001b[0;34m\"\"\"Schedule a func to be run\"\"\"\u001b[0m\u001b[0;34m\u001b[0m\u001b[0;34m\u001b[0m\u001b[0m\n\u001b[0;32m--> 208\u001b[0;31m         \u001b[0mresult\u001b[0m \u001b[0;34m=\u001b[0m \u001b[0mImmediateResult\u001b[0m\u001b[0;34m(\u001b[0m\u001b[0mfunc\u001b[0m\u001b[0;34m)\u001b[0m\u001b[0;34m\u001b[0m\u001b[0;34m\u001b[0m\u001b[0m\n\u001b[0m\u001b[1;32m    209\u001b[0m         \u001b[0;32mif\u001b[0m \u001b[0mcallback\u001b[0m\u001b[0;34m:\u001b[0m\u001b[0;34m\u001b[0m\u001b[0;34m\u001b[0m\u001b[0m\n\u001b[1;32m    210\u001b[0m             \u001b[0mcallback\u001b[0m\u001b[0;34m(\u001b[0m\u001b[0mresult\u001b[0m\u001b[0;34m)\u001b[0m\u001b[0;34m\u001b[0m\u001b[0;34m\u001b[0m\u001b[0m\n",
      "\u001b[0;32m~/opt/anaconda3/envs/ml-short-course/lib/python3.9/site-packages/joblib/_parallel_backends.py\u001b[0m in \u001b[0;36m__init__\u001b[0;34m(self, batch)\u001b[0m\n\u001b[1;32m    570\u001b[0m         \u001b[0;31m# Don't delay the application, to avoid keeping the input\u001b[0m\u001b[0;34m\u001b[0m\u001b[0;34m\u001b[0m\u001b[0;34m\u001b[0m\u001b[0m\n\u001b[1;32m    571\u001b[0m         \u001b[0;31m# arguments in memory\u001b[0m\u001b[0;34m\u001b[0m\u001b[0;34m\u001b[0m\u001b[0;34m\u001b[0m\u001b[0m\n\u001b[0;32m--> 572\u001b[0;31m         \u001b[0mself\u001b[0m\u001b[0;34m.\u001b[0m\u001b[0mresults\u001b[0m \u001b[0;34m=\u001b[0m \u001b[0mbatch\u001b[0m\u001b[0;34m(\u001b[0m\u001b[0;34m)\u001b[0m\u001b[0;34m\u001b[0m\u001b[0;34m\u001b[0m\u001b[0m\n\u001b[0m\u001b[1;32m    573\u001b[0m \u001b[0;34m\u001b[0m\u001b[0m\n\u001b[1;32m    574\u001b[0m     \u001b[0;32mdef\u001b[0m \u001b[0mget\u001b[0m\u001b[0;34m(\u001b[0m\u001b[0mself\u001b[0m\u001b[0;34m)\u001b[0m\u001b[0;34m:\u001b[0m\u001b[0;34m\u001b[0m\u001b[0;34m\u001b[0m\u001b[0m\n",
      "\u001b[0;32m~/opt/anaconda3/envs/ml-short-course/lib/python3.9/site-packages/joblib/parallel.py\u001b[0m in \u001b[0;36m__call__\u001b[0;34m(self)\u001b[0m\n\u001b[1;32m    260\u001b[0m         \u001b[0;31m# change the default number of processes to -1\u001b[0m\u001b[0;34m\u001b[0m\u001b[0;34m\u001b[0m\u001b[0;34m\u001b[0m\u001b[0m\n\u001b[1;32m    261\u001b[0m         \u001b[0;32mwith\u001b[0m \u001b[0mparallel_backend\u001b[0m\u001b[0;34m(\u001b[0m\u001b[0mself\u001b[0m\u001b[0;34m.\u001b[0m\u001b[0m_backend\u001b[0m\u001b[0;34m,\u001b[0m \u001b[0mn_jobs\u001b[0m\u001b[0;34m=\u001b[0m\u001b[0mself\u001b[0m\u001b[0;34m.\u001b[0m\u001b[0m_n_jobs\u001b[0m\u001b[0;34m)\u001b[0m\u001b[0;34m:\u001b[0m\u001b[0;34m\u001b[0m\u001b[0;34m\u001b[0m\u001b[0m\n\u001b[0;32m--> 262\u001b[0;31m             return [func(*args, **kwargs)\n\u001b[0m\u001b[1;32m    263\u001b[0m                     for func, args, kwargs in self.items]\n\u001b[1;32m    264\u001b[0m \u001b[0;34m\u001b[0m\u001b[0m\n",
      "\u001b[0;32m~/opt/anaconda3/envs/ml-short-course/lib/python3.9/site-packages/joblib/parallel.py\u001b[0m in \u001b[0;36m<listcomp>\u001b[0;34m(.0)\u001b[0m\n\u001b[1;32m    260\u001b[0m         \u001b[0;31m# change the default number of processes to -1\u001b[0m\u001b[0;34m\u001b[0m\u001b[0;34m\u001b[0m\u001b[0;34m\u001b[0m\u001b[0m\n\u001b[1;32m    261\u001b[0m         \u001b[0;32mwith\u001b[0m \u001b[0mparallel_backend\u001b[0m\u001b[0;34m(\u001b[0m\u001b[0mself\u001b[0m\u001b[0;34m.\u001b[0m\u001b[0m_backend\u001b[0m\u001b[0;34m,\u001b[0m \u001b[0mn_jobs\u001b[0m\u001b[0;34m=\u001b[0m\u001b[0mself\u001b[0m\u001b[0;34m.\u001b[0m\u001b[0m_n_jobs\u001b[0m\u001b[0;34m)\u001b[0m\u001b[0;34m:\u001b[0m\u001b[0;34m\u001b[0m\u001b[0;34m\u001b[0m\u001b[0m\n\u001b[0;32m--> 262\u001b[0;31m             return [func(*args, **kwargs)\n\u001b[0m\u001b[1;32m    263\u001b[0m                     for func, args, kwargs in self.items]\n\u001b[1;32m    264\u001b[0m \u001b[0;34m\u001b[0m\u001b[0m\n",
      "\u001b[0;32m~/opt/anaconda3/envs/ml-short-course/lib/python3.9/site-packages/sklearn/utils/fixes.py\u001b[0m in \u001b[0;36m__call__\u001b[0;34m(self, *args, **kwargs)\u001b[0m\n\u001b[1;32m    220\u001b[0m     \u001b[0;32mdef\u001b[0m \u001b[0m__call__\u001b[0m\u001b[0;34m(\u001b[0m\u001b[0mself\u001b[0m\u001b[0;34m,\u001b[0m \u001b[0;34m*\u001b[0m\u001b[0margs\u001b[0m\u001b[0;34m,\u001b[0m \u001b[0;34m**\u001b[0m\u001b[0mkwargs\u001b[0m\u001b[0;34m)\u001b[0m\u001b[0;34m:\u001b[0m\u001b[0;34m\u001b[0m\u001b[0;34m\u001b[0m\u001b[0m\n\u001b[1;32m    221\u001b[0m         \u001b[0;32mwith\u001b[0m \u001b[0mconfig_context\u001b[0m\u001b[0;34m(\u001b[0m\u001b[0;34m**\u001b[0m\u001b[0mself\u001b[0m\u001b[0;34m.\u001b[0m\u001b[0mconfig\u001b[0m\u001b[0;34m)\u001b[0m\u001b[0;34m:\u001b[0m\u001b[0;34m\u001b[0m\u001b[0;34m\u001b[0m\u001b[0m\n\u001b[0;32m--> 222\u001b[0;31m             \u001b[0;32mreturn\u001b[0m \u001b[0mself\u001b[0m\u001b[0;34m.\u001b[0m\u001b[0mfunction\u001b[0m\u001b[0;34m(\u001b[0m\u001b[0;34m*\u001b[0m\u001b[0margs\u001b[0m\u001b[0;34m,\u001b[0m \u001b[0;34m**\u001b[0m\u001b[0mkwargs\u001b[0m\u001b[0;34m)\u001b[0m\u001b[0;34m\u001b[0m\u001b[0;34m\u001b[0m\u001b[0m\n\u001b[0m",
      "\u001b[0;32m~/opt/anaconda3/envs/ml-short-course/lib/python3.9/site-packages/sklearn/ensemble/_forest.py\u001b[0m in \u001b[0;36m_parallel_build_trees\u001b[0;34m(tree, forest, X, y, sample_weight, tree_idx, n_trees, verbose, class_weight, n_samples_bootstrap)\u001b[0m\n\u001b[1;32m    167\u001b[0m                                                         indices=indices)\n\u001b[1;32m    168\u001b[0m \u001b[0;34m\u001b[0m\u001b[0m\n\u001b[0;32m--> 169\u001b[0;31m         \u001b[0mtree\u001b[0m\u001b[0;34m.\u001b[0m\u001b[0mfit\u001b[0m\u001b[0;34m(\u001b[0m\u001b[0mX\u001b[0m\u001b[0;34m,\u001b[0m \u001b[0my\u001b[0m\u001b[0;34m,\u001b[0m \u001b[0msample_weight\u001b[0m\u001b[0;34m=\u001b[0m\u001b[0mcurr_sample_weight\u001b[0m\u001b[0;34m,\u001b[0m \u001b[0mcheck_input\u001b[0m\u001b[0;34m=\u001b[0m\u001b[0;32mFalse\u001b[0m\u001b[0;34m)\u001b[0m\u001b[0;34m\u001b[0m\u001b[0;34m\u001b[0m\u001b[0m\n\u001b[0m\u001b[1;32m    170\u001b[0m     \u001b[0;32melse\u001b[0m\u001b[0;34m:\u001b[0m\u001b[0;34m\u001b[0m\u001b[0;34m\u001b[0m\u001b[0m\n\u001b[1;32m    171\u001b[0m         \u001b[0mtree\u001b[0m\u001b[0;34m.\u001b[0m\u001b[0mfit\u001b[0m\u001b[0;34m(\u001b[0m\u001b[0mX\u001b[0m\u001b[0;34m,\u001b[0m \u001b[0my\u001b[0m\u001b[0;34m,\u001b[0m \u001b[0msample_weight\u001b[0m\u001b[0;34m=\u001b[0m\u001b[0msample_weight\u001b[0m\u001b[0;34m,\u001b[0m \u001b[0mcheck_input\u001b[0m\u001b[0;34m=\u001b[0m\u001b[0;32mFalse\u001b[0m\u001b[0;34m)\u001b[0m\u001b[0;34m\u001b[0m\u001b[0;34m\u001b[0m\u001b[0m\n",
      "\u001b[0;32m~/opt/anaconda3/envs/ml-short-course/lib/python3.9/site-packages/sklearn/tree/_classes.py\u001b[0m in \u001b[0;36mfit\u001b[0;34m(self, X, y, sample_weight, check_input, X_idx_sorted)\u001b[0m\n\u001b[1;32m    896\u001b[0m         \"\"\"\n\u001b[1;32m    897\u001b[0m \u001b[0;34m\u001b[0m\u001b[0m\n\u001b[0;32m--> 898\u001b[0;31m         super().fit(\n\u001b[0m\u001b[1;32m    899\u001b[0m             \u001b[0mX\u001b[0m\u001b[0;34m,\u001b[0m \u001b[0my\u001b[0m\u001b[0;34m,\u001b[0m\u001b[0;34m\u001b[0m\u001b[0;34m\u001b[0m\u001b[0m\n\u001b[1;32m    900\u001b[0m             \u001b[0msample_weight\u001b[0m\u001b[0;34m=\u001b[0m\u001b[0msample_weight\u001b[0m\u001b[0;34m,\u001b[0m\u001b[0;34m\u001b[0m\u001b[0;34m\u001b[0m\u001b[0m\n",
      "\u001b[0;32m~/opt/anaconda3/envs/ml-short-course/lib/python3.9/site-packages/sklearn/tree/_classes.py\u001b[0m in \u001b[0;36mfit\u001b[0;34m(self, X, y, sample_weight, check_input, X_idx_sorted)\u001b[0m\n\u001b[1;32m    387\u001b[0m                                            min_impurity_split)\n\u001b[1;32m    388\u001b[0m \u001b[0;34m\u001b[0m\u001b[0m\n\u001b[0;32m--> 389\u001b[0;31m         \u001b[0mbuilder\u001b[0m\u001b[0;34m.\u001b[0m\u001b[0mbuild\u001b[0m\u001b[0;34m(\u001b[0m\u001b[0mself\u001b[0m\u001b[0;34m.\u001b[0m\u001b[0mtree_\u001b[0m\u001b[0;34m,\u001b[0m \u001b[0mX\u001b[0m\u001b[0;34m,\u001b[0m \u001b[0my\u001b[0m\u001b[0;34m,\u001b[0m \u001b[0msample_weight\u001b[0m\u001b[0;34m)\u001b[0m\u001b[0;34m\u001b[0m\u001b[0;34m\u001b[0m\u001b[0m\n\u001b[0m\u001b[1;32m    390\u001b[0m \u001b[0;34m\u001b[0m\u001b[0m\n\u001b[1;32m    391\u001b[0m         \u001b[0;32mif\u001b[0m \u001b[0mself\u001b[0m\u001b[0;34m.\u001b[0m\u001b[0mn_outputs_\u001b[0m \u001b[0;34m==\u001b[0m \u001b[0;36m1\u001b[0m \u001b[0;32mand\u001b[0m \u001b[0mis_classifier\u001b[0m\u001b[0;34m(\u001b[0m\u001b[0mself\u001b[0m\u001b[0;34m)\u001b[0m\u001b[0;34m:\u001b[0m\u001b[0;34m\u001b[0m\u001b[0;34m\u001b[0m\u001b[0m\n",
      "\u001b[0;31mKeyboardInterrupt\u001b[0m: "
     ]
    }
   ],
   "source": [
    "### ANSWER ####\n",
    "N = 300\n",
    "acc = 0\n",
    "auc = 0\n",
    "acc_array = np.empty((0,N), float)\n",
    "auc_array = np.empty((0,N), float)\n",
    "\n",
    "for i in range(N):\n",
    "    \n",
    "    acc, auc = RunRF(features, classes['label'])\n",
    "    acc_array = np.append(acc_array,acc)\n",
    "    auc_array = np.append(auc_array,auc)\n",
    "    \n",
    "    \n",
    "mean_acc = np.mean(acc_array)\n",
    "std_acc = np.std(acc_array)\n",
    "\n",
    "mean_auc = np.mean(auc_array)\n",
    "std_auc = np.std(auc_array)\n",
    "    \n",
    "plt.figure()\n",
    "plt.hist(acc_array)\n",
    "print(\"Mean Accuracy:\", mean_acc, \"+/-\", std_acc)\n",
    "plt.ylabel('Counts')\n",
    "plt.xlabel('ACC')\n",
    "\n",
    "plt.figure()\n",
    "plt.hist(auc_array)\n",
    "print(\"Mean AUC:\", mean_auc, \"+/-\", std_auc)\n",
    "plt.ylabel('Counts')\n",
    "plt.xlabel('AUC')"
   ]
  },
  {
   "cell_type": "markdown",
   "id": "7c0252f9-13a1-47c6-a663-81d037bea246",
   "metadata": {},
   "source": [
    "---\n",
    "## 3. What about other kinds of data?\n",
    "\n",
    "Many times it is important to know the strucutre of your data, hence plotting feature spaces. Sometimes the models you are using might be incompatible with the structure of your data. Some models try to draw lines to separate, some draw curves, some are more emergent. Let's test this out with a ciruclar data set where we can clearly see the separation. Below, we create some data and store the values in data frames."
   ]
  },
  {
   "cell_type": "code",
   "execution_count": 147,
   "id": "823cfd43-94f6-4f94-801a-c468cab4909d",
   "metadata": {},
   "outputs": [],
   "source": [
    "X, y = make_circles(n_samples = 500)\n",
    "\n",
    "loc = pd.DataFrame(X, columns=['x1','x2'])\n",
    "label = pd.DataFrame(y, columns=['y'])"
   ]
  },
  {
   "cell_type": "code",
   "execution_count": 148,
   "id": "768f5a1e-b05b-49b4-868c-b901830ea8ed",
   "metadata": {},
   "outputs": [
    {
     "data": {
      "text/html": [
       "<div>\n",
       "<style scoped>\n",
       "    .dataframe tbody tr th:only-of-type {\n",
       "        vertical-align: middle;\n",
       "    }\n",
       "\n",
       "    .dataframe tbody tr th {\n",
       "        vertical-align: top;\n",
       "    }\n",
       "\n",
       "    .dataframe thead th {\n",
       "        text-align: right;\n",
       "    }\n",
       "</style>\n",
       "<table border=\"1\" class=\"dataframe\">\n",
       "  <thead>\n",
       "    <tr style=\"text-align: right;\">\n",
       "      <th></th>\n",
       "      <th>x1</th>\n",
       "      <th>x2</th>\n",
       "    </tr>\n",
       "  </thead>\n",
       "  <tbody>\n",
       "    <tr>\n",
       "      <th>0</th>\n",
       "      <td>-0.968583</td>\n",
       "      <td>-0.248690</td>\n",
       "    </tr>\n",
       "    <tr>\n",
       "      <th>1</th>\n",
       "      <td>0.658826</td>\n",
       "      <td>-0.453815</td>\n",
       "    </tr>\n",
       "    <tr>\n",
       "      <th>2</th>\n",
       "      <td>0.208673</td>\n",
       "      <td>0.772305</td>\n",
       "    </tr>\n",
       "    <tr>\n",
       "      <th>3</th>\n",
       "      <td>-0.535827</td>\n",
       "      <td>-0.844328</td>\n",
       "    </tr>\n",
       "    <tr>\n",
       "      <th>4</th>\n",
       "      <td>-0.992115</td>\n",
       "      <td>0.125333</td>\n",
       "    </tr>\n",
       "  </tbody>\n",
       "</table>\n",
       "</div>"
      ],
      "text/plain": [
       "         x1        x2\n",
       "0 -0.968583 -0.248690\n",
       "1  0.658826 -0.453815\n",
       "2  0.208673  0.772305\n",
       "3 -0.535827 -0.844328\n",
       "4 -0.992115  0.125333"
      ]
     },
     "execution_count": 148,
     "metadata": {},
     "output_type": "execute_result"
    }
   ],
   "source": [
    "loc.head()"
   ]
  },
  {
   "cell_type": "code",
   "execution_count": 149,
   "id": "2c3cbeda-0e25-44f2-a40b-7859803ecde0",
   "metadata": {},
   "outputs": [
    {
     "data": {
      "text/html": [
       "<div>\n",
       "<style scoped>\n",
       "    .dataframe tbody tr th:only-of-type {\n",
       "        vertical-align: middle;\n",
       "    }\n",
       "\n",
       "    .dataframe tbody tr th {\n",
       "        vertical-align: top;\n",
       "    }\n",
       "\n",
       "    .dataframe thead th {\n",
       "        text-align: right;\n",
       "    }\n",
       "</style>\n",
       "<table border=\"1\" class=\"dataframe\">\n",
       "  <thead>\n",
       "    <tr style=\"text-align: right;\">\n",
       "      <th></th>\n",
       "      <th>y</th>\n",
       "    </tr>\n",
       "  </thead>\n",
       "  <tbody>\n",
       "    <tr>\n",
       "      <th>0</th>\n",
       "      <td>0</td>\n",
       "    </tr>\n",
       "    <tr>\n",
       "      <th>1</th>\n",
       "      <td>1</td>\n",
       "    </tr>\n",
       "    <tr>\n",
       "      <th>2</th>\n",
       "      <td>1</td>\n",
       "    </tr>\n",
       "    <tr>\n",
       "      <th>3</th>\n",
       "      <td>0</td>\n",
       "    </tr>\n",
       "    <tr>\n",
       "      <th>4</th>\n",
       "      <td>0</td>\n",
       "    </tr>\n",
       "  </tbody>\n",
       "</table>\n",
       "</div>"
      ],
      "text/plain": [
       "   y\n",
       "0  0\n",
       "1  1\n",
       "2  1\n",
       "3  0\n",
       "4  0"
      ]
     },
     "execution_count": 149,
     "metadata": {},
     "output_type": "execute_result"
    }
   ],
   "source": [
    "label.head()"
   ]
  },
  {
   "cell_type": "markdown",
   "id": "4517f7c3-8cbf-4ae3-8b29-5223a7df20d4",
   "metadata": {},
   "source": [
    "### 3.1 Plot it! \n",
    "\n",
    "Let's plot this data to see why we might not expect the same results as we had found for the previous case."
   ]
  },
  {
   "cell_type": "code",
   "execution_count": 150,
   "id": "4d10369d-816d-4c17-baf1-4853bd8d7db5",
   "metadata": {},
   "outputs": [
    {
     "data": {
      "text/plain": [
       "Text(0, 0.5, 'x2')"
      ]
     },
     "execution_count": 150,
     "metadata": {},
     "output_type": "execute_result"
    },
    {
     "data": {
      "image/png": "[encoded data removed]",
      "text/plain": [
       "<Figure size 360x360 with 1 Axes>"
      ]
     },
     "metadata": {
      "filenames": {
       "image/png": "/Users/caballero/Repos/teaching/OPSI_ML_workshop/_build/jupyter_execute/notebooks/day-4/Day_4-Multiplicity_of_Models-SOL_60_1.png"
      },
      "needs_background": "light"
     },
     "output_type": "display_data"
    }
   ],
   "source": [
    "plt.figure(figsize=(5,5))\n",
    "plt.scatter(loc['x1'], loc['x2'], c=label['y'])\n",
    "plt.xlabel('x1')\n",
    "plt.ylabel('x2')"
   ]
  },
  {
   "cell_type": "markdown",
   "id": "c4ff4e04-ea59-41eb-aad5-c61152b2f7e2",
   "metadata": {},
   "source": [
    "It is really easy to see in the figure above that we have two clearly separated classes. Let's fire up the Logisitic Regression model and see what it can find."
   ]
  },
  {
   "cell_type": "code",
   "execution_count": 151,
   "id": "ff0d15a1-4e28-413d-952f-b08714927ccd",
   "metadata": {},
   "outputs": [
    {
     "name": "stdout",
     "output_type": "stream",
     "text": [
      "LogisticRegression()\n",
      "0.43000000000000005\n"
     ]
    },
    {
     "name": "stderr",
     "output_type": "stream",
     "text": [
      "/Users/caballero/opt/anaconda3/envs/ml-short-course/lib/python3.9/site-packages/sklearn/model_selection/_validation.py:610: FitFailedWarning: Estimator fit failed. The score on this train-test partition for these parameters will be set to nan. Details: \n",
      "Traceback (most recent call last):\n",
      "  File \"/Users/caballero/opt/anaconda3/envs/ml-short-course/lib/python3.9/site-packages/sklearn/model_selection/_validation.py\", line 593, in _fit_and_score\n",
      "    estimator.fit(X_train, y_train, **fit_params)\n",
      "  File \"/Users/caballero/opt/anaconda3/envs/ml-short-course/lib/python3.9/site-packages/sklearn/linear_model/_logistic.py\", line 1306, in fit\n",
      "    solver = _check_solver(self.solver, self.penalty, self.dual)\n",
      "  File \"/Users/caballero/opt/anaconda3/envs/ml-short-course/lib/python3.9/site-packages/sklearn/linear_model/_logistic.py\", line 443, in _check_solver\n",
      "    raise ValueError(\"Solver %s supports only 'l2' or 'none' penalties, \"\n",
      "ValueError: Solver lbfgs supports only 'l2' or 'none' penalties, got l1 penalty.\n",
      "\n",
      "  warnings.warn(\"Estimator fit failed. The score on this train-test\"\n",
      "/Users/caballero/opt/anaconda3/envs/ml-short-course/lib/python3.9/site-packages/sklearn/model_selection/_validation.py:610: FitFailedWarning: Estimator fit failed. The score on this train-test partition for these parameters will be set to nan. Details: \n",
      "Traceback (most recent call last):\n",
      "  File \"/Users/caballero/opt/anaconda3/envs/ml-short-course/lib/python3.9/site-packages/sklearn/model_selection/_validation.py\", line 593, in _fit_and_score\n",
      "    estimator.fit(X_train, y_train, **fit_params)\n",
      "  File \"/Users/caballero/opt/anaconda3/envs/ml-short-course/lib/python3.9/site-packages/sklearn/linear_model/_logistic.py\", line 1306, in fit\n",
      "    solver = _check_solver(self.solver, self.penalty, self.dual)\n",
      "  File \"/Users/caballero/opt/anaconda3/envs/ml-short-course/lib/python3.9/site-packages/sklearn/linear_model/_logistic.py\", line 443, in _check_solver\n",
      "    raise ValueError(\"Solver %s supports only 'l2' or 'none' penalties, \"\n",
      "ValueError: Solver lbfgs supports only 'l2' or 'none' penalties, got l1 penalty.\n",
      "\n",
      "  warnings.warn(\"Estimator fit failed. The score on this train-test\"\n",
      "/Users/caballero/opt/anaconda3/envs/ml-short-course/lib/python3.9/site-packages/sklearn/model_selection/_validation.py:610: FitFailedWarning: Estimator fit failed. The score on this train-test partition for these parameters will be set to nan. Details: \n",
      "Traceback (most recent call last):\n",
      "  File \"/Users/caballero/opt/anaconda3/envs/ml-short-course/lib/python3.9/site-packages/sklearn/model_selection/_validation.py\", line 593, in _fit_and_score\n",
      "    estimator.fit(X_train, y_train, **fit_params)\n",
      "  File \"/Users/caballero/opt/anaconda3/envs/ml-short-course/lib/python3.9/site-packages/sklearn/linear_model/_logistic.py\", line 1306, in fit\n",
      "    solver = _check_solver(self.solver, self.penalty, self.dual)\n",
      "  File \"/Users/caballero/opt/anaconda3/envs/ml-short-course/lib/python3.9/site-packages/sklearn/linear_model/_logistic.py\", line 443, in _check_solver\n",
      "    raise ValueError(\"Solver %s supports only 'l2' or 'none' penalties, \"\n",
      "ValueError: Solver lbfgs supports only 'l2' or 'none' penalties, got l1 penalty.\n",
      "\n",
      "  warnings.warn(\"Estimator fit failed. The score on this train-test\"\n",
      "/Users/caballero/opt/anaconda3/envs/ml-short-course/lib/python3.9/site-packages/sklearn/model_selection/_validation.py:610: FitFailedWarning: Estimator fit failed. The score on this train-test partition for these parameters will be set to nan. Details: \n",
      "Traceback (most recent call last):\n",
      "  File \"/Users/caballero/opt/anaconda3/envs/ml-short-course/lib/python3.9/site-packages/sklearn/model_selection/_validation.py\", line 593, in _fit_and_score\n",
      "    estimator.fit(X_train, y_train, **fit_params)\n",
      "  File \"/Users/caballero/opt/anaconda3/envs/ml-short-course/lib/python3.9/site-packages/sklearn/linear_model/_logistic.py\", line 1306, in fit\n",
      "    solver = _check_solver(self.solver, self.penalty, self.dual)\n",
      "  File \"/Users/caballero/opt/anaconda3/envs/ml-short-course/lib/python3.9/site-packages/sklearn/linear_model/_logistic.py\", line 443, in _check_solver\n",
      "    raise ValueError(\"Solver %s supports only 'l2' or 'none' penalties, \"\n",
      "ValueError: Solver lbfgs supports only 'l2' or 'none' penalties, got l1 penalty.\n",
      "\n",
      "  warnings.warn(\"Estimator fit failed. The score on this train-test\"\n",
      "/Users/caballero/opt/anaconda3/envs/ml-short-course/lib/python3.9/site-packages/sklearn/model_selection/_validation.py:610: FitFailedWarning: Estimator fit failed. The score on this train-test partition for these parameters will be set to nan. Details: \n",
      "Traceback (most recent call last):\n",
      "  File \"/Users/caballero/opt/anaconda3/envs/ml-short-course/lib/python3.9/site-packages/sklearn/model_selection/_validation.py\", line 593, in _fit_and_score\n",
      "    estimator.fit(X_train, y_train, **fit_params)\n",
      "  File \"/Users/caballero/opt/anaconda3/envs/ml-short-course/lib/python3.9/site-packages/sklearn/linear_model/_logistic.py\", line 1306, in fit\n",
      "    solver = _check_solver(self.solver, self.penalty, self.dual)\n",
      "  File \"/Users/caballero/opt/anaconda3/envs/ml-short-course/lib/python3.9/site-packages/sklearn/linear_model/_logistic.py\", line 443, in _check_solver\n",
      "    raise ValueError(\"Solver %s supports only 'l2' or 'none' penalties, \"\n",
      "ValueError: Solver lbfgs supports only 'l2' or 'none' penalties, got l1 penalty.\n",
      "\n",
      "  warnings.warn(\"Estimator fit failed. The score on this train-test\"\n",
      "/Users/caballero/opt/anaconda3/envs/ml-short-course/lib/python3.9/site-packages/sklearn/model_selection/_validation.py:610: FitFailedWarning: Estimator fit failed. The score on this train-test partition for these parameters will be set to nan. Details: \n",
      "Traceback (most recent call last):\n",
      "  File \"/Users/caballero/opt/anaconda3/envs/ml-short-course/lib/python3.9/site-packages/sklearn/model_selection/_validation.py\", line 593, in _fit_and_score\n",
      "    estimator.fit(X_train, y_train, **fit_params)\n",
      "  File \"/Users/caballero/opt/anaconda3/envs/ml-short-course/lib/python3.9/site-packages/sklearn/linear_model/_logistic.py\", line 1306, in fit\n",
      "    solver = _check_solver(self.solver, self.penalty, self.dual)\n",
      "  File \"/Users/caballero/opt/anaconda3/envs/ml-short-course/lib/python3.9/site-packages/sklearn/linear_model/_logistic.py\", line 443, in _check_solver\n",
      "    raise ValueError(\"Solver %s supports only 'l2' or 'none' penalties, \"\n",
      "ValueError: Solver lbfgs supports only 'l2' or 'none' penalties, got elasticnet penalty.\n",
      "\n",
      "  warnings.warn(\"Estimator fit failed. The score on this train-test\"\n",
      "/Users/caballero/opt/anaconda3/envs/ml-short-course/lib/python3.9/site-packages/sklearn/model_selection/_validation.py:610: FitFailedWarning: Estimator fit failed. The score on this train-test partition for these parameters will be set to nan. Details: \n",
      "Traceback (most recent call last):\n",
      "  File \"/Users/caballero/opt/anaconda3/envs/ml-short-course/lib/python3.9/site-packages/sklearn/model_selection/_validation.py\", line 593, in _fit_and_score\n",
      "    estimator.fit(X_train, y_train, **fit_params)\n",
      "  File \"/Users/caballero/opt/anaconda3/envs/ml-short-course/lib/python3.9/site-packages/sklearn/linear_model/_logistic.py\", line 1306, in fit\n",
      "    solver = _check_solver(self.solver, self.penalty, self.dual)\n",
      "  File \"/Users/caballero/opt/anaconda3/envs/ml-short-course/lib/python3.9/site-packages/sklearn/linear_model/_logistic.py\", line 443, in _check_solver\n",
      "    raise ValueError(\"Solver %s supports only 'l2' or 'none' penalties, \"\n",
      "ValueError: Solver lbfgs supports only 'l2' or 'none' penalties, got elasticnet penalty.\n",
      "\n",
      "  warnings.warn(\"Estimator fit failed. The score on this train-test\"\n",
      "/Users/caballero/opt/anaconda3/envs/ml-short-course/lib/python3.9/site-packages/sklearn/model_selection/_validation.py:610: FitFailedWarning: Estimator fit failed. The score on this train-test partition for these parameters will be set to nan. Details: \n",
      "Traceback (most recent call last):\n",
      "  File \"/Users/caballero/opt/anaconda3/envs/ml-short-course/lib/python3.9/site-packages/sklearn/model_selection/_validation.py\", line 593, in _fit_and_score\n",
      "    estimator.fit(X_train, y_train, **fit_params)\n",
      "  File \"/Users/caballero/opt/anaconda3/envs/ml-short-course/lib/python3.9/site-packages/sklearn/linear_model/_logistic.py\", line 1306, in fit\n",
      "    solver = _check_solver(self.solver, self.penalty, self.dual)\n",
      "  File \"/Users/caballero/opt/anaconda3/envs/ml-short-course/lib/python3.9/site-packages/sklearn/linear_model/_logistic.py\", line 443, in _check_solver\n",
      "    raise ValueError(\"Solver %s supports only 'l2' or 'none' penalties, \"\n",
      "ValueError: Solver lbfgs supports only 'l2' or 'none' penalties, got elasticnet penalty.\n",
      "\n",
      "  warnings.warn(\"Estimator fit failed. The score on this train-test\"\n",
      "/Users/caballero/opt/anaconda3/envs/ml-short-course/lib/python3.9/site-packages/sklearn/model_selection/_validation.py:610: FitFailedWarning: Estimator fit failed. The score on this train-test partition for these parameters will be set to nan. Details: \n",
      "Traceback (most recent call last):\n",
      "  File \"/Users/caballero/opt/anaconda3/envs/ml-short-course/lib/python3.9/site-packages/sklearn/model_selection/_validation.py\", line 593, in _fit_and_score\n",
      "    estimator.fit(X_train, y_train, **fit_params)\n",
      "  File \"/Users/caballero/opt/anaconda3/envs/ml-short-course/lib/python3.9/site-packages/sklearn/linear_model/_logistic.py\", line 1306, in fit\n",
      "    solver = _check_solver(self.solver, self.penalty, self.dual)\n",
      "  File \"/Users/caballero/opt/anaconda3/envs/ml-short-course/lib/python3.9/site-packages/sklearn/linear_model/_logistic.py\", line 443, in _check_solver\n",
      "    raise ValueError(\"Solver %s supports only 'l2' or 'none' penalties, \"\n",
      "ValueError: Solver lbfgs supports only 'l2' or 'none' penalties, got elasticnet penalty.\n",
      "\n",
      "  warnings.warn(\"Estimator fit failed. The score on this train-test\"\n",
      "/Users/caballero/opt/anaconda3/envs/ml-short-course/lib/python3.9/site-packages/sklearn/model_selection/_validation.py:610: FitFailedWarning: Estimator fit failed. The score on this train-test partition for these parameters will be set to nan. Details: \n",
      "Traceback (most recent call last):\n",
      "  File \"/Users/caballero/opt/anaconda3/envs/ml-short-course/lib/python3.9/site-packages/sklearn/model_selection/_validation.py\", line 593, in _fit_and_score\n",
      "    estimator.fit(X_train, y_train, **fit_params)\n",
      "  File \"/Users/caballero/opt/anaconda3/envs/ml-short-course/lib/python3.9/site-packages/sklearn/linear_model/_logistic.py\", line 1306, in fit\n",
      "    solver = _check_solver(self.solver, self.penalty, self.dual)\n",
      "  File \"/Users/caballero/opt/anaconda3/envs/ml-short-course/lib/python3.9/site-packages/sklearn/linear_model/_logistic.py\", line 443, in _check_solver\n",
      "    raise ValueError(\"Solver %s supports only 'l2' or 'none' penalties, \"\n",
      "ValueError: Solver lbfgs supports only 'l2' or 'none' penalties, got elasticnet penalty.\n",
      "\n",
      "  warnings.warn(\"Estimator fit failed. The score on this train-test\"\n",
      "/Users/caballero/opt/anaconda3/envs/ml-short-course/lib/python3.9/site-packages/sklearn/model_selection/_search.py:918: UserWarning: One or more of the test scores are non-finite: [ nan 0.43  nan 0.43]\n",
      "  warnings.warn(\n"
     ]
    }
   ],
   "source": [
    "parameters = [\n",
    "    {'penalty': ['l1', 'l2', 'elasticnet', 'none']},\n",
    "]\n",
    "\n",
    "LR_tuned = LogisticRegression()\n",
    "clf = GridSearchCV(LR_tuned, parameters)\n",
    "clf.fit(loc, label['y'])\n",
    "\n",
    "LRBest = clf.best_estimator_\n",
    "print(LRBest)\n",
    "print(clf.best_score_)"
   ]
  },
  {
   "cell_type": "markdown",
   "id": "0e0b9648-e433-4f75-8cba-665b8f895c7e",
   "metadata": {},
   "source": [
    "### 3.2 Time to try other models\n",
    "\n",
    "It appears the the logistic regression does pretty poorly. That is because logistic regression is not good with nonlinear problems. It is a linear model, so it's hard for it to deal with things like circles!\n",
    "\n",
    "<font size=+3>&#9998;</font> **Do this:** Test the SVC, KNN, and RF models on these data. Use `GridSearchCV()` to find the best model for each. How do the accuracies compare? Which might you use to work more on this problem? *No need to plot disitrbutions for this, you can do that later if you like.*"
   ]
  },
  {
   "cell_type": "code",
   "execution_count": 152,
   "id": "7963f0fd-0bc6-4959-8302-a5e35438b5ee",
   "metadata": {},
   "outputs": [],
   "source": [
    "### your code here"
   ]
  },
  {
   "cell_type": "code",
   "execution_count": 153,
   "id": "50d3e410-7e25-41dd-b0b6-d206785fa073",
   "metadata": {},
   "outputs": [
    {
     "name": "stdout",
     "output_type": "stream",
     "text": [
      "LinearSVC(C=0.001, max_iter=50000)\n",
      "0.43000000000000005\n"
     ]
    }
   ],
   "source": [
    "### ANSWER ###\n",
    "\n",
    "parameters = [\n",
    "    {'C': [0.001, 0.01, 0.1, 1, 10]}\n",
    "]\n",
    "\n",
    "SVM_tuned = LinearSVC(max_iter=50000)\n",
    "clf = GridSearchCV(SVM_tuned, parameters)\n",
    "clf.fit(loc, label['y'])\n",
    "\n",
    "BestSVM = clf.best_estimator_\n",
    "print(BestSVM)\n",
    "print(clf.best_score_)"
   ]
  },
  {
   "cell_type": "code",
   "execution_count": 154,
   "id": "756a7da2-ed68-49a1-9662-aa39ae03ad6d",
   "metadata": {},
   "outputs": [
    {
     "name": "stdout",
     "output_type": "stream",
     "text": [
      "RandomForestClassifier()\n",
      "0.99\n"
     ]
    }
   ],
   "source": [
    "### ANSWER ###\n",
    "\n",
    "parameters = [\n",
    "    {'n_estimators': [10, 50, 100, 200]},\n",
    "    {'criterion' : ['gini', 'entropy']},\n",
    "    {'max_features': ['auto', 'sqrt', 'log2']}\n",
    "]\n",
    "\n",
    "RF_tuned = RandomForestClassifier()\n",
    "clf = GridSearchCV(RF_tuned, parameters)\n",
    "clf.fit(loc, label['y'])\n",
    "\n",
    "BestRF = clf.best_estimator_\n",
    "print(BestRF)\n",
    "print(clf.best_score_)"
   ]
  },
  {
   "cell_type": "code",
   "execution_count": 155,
   "id": "f39d2d6c-1053-41bf-a9f2-0197120422b7",
   "metadata": {},
   "outputs": [
    {
     "name": "stdout",
     "output_type": "stream",
     "text": [
      "KNeighborsClassifier(n_neighbors=2)\n",
      "1.0\n"
     ]
    }
   ],
   "source": [
    "### ANSWER ###\n",
    "parameters = [\n",
    "    {'n_neighbors': np.arange(2,21)}\n",
    "]\n",
    "\n",
    "KNN_tuned = KNeighborsClassifier()\n",
    "clf = GridSearchCV(KNN_tuned, parameters)\n",
    "clf.fit(loc, label['y'])\n",
    "\n",
    "BestKNN = clf.best_estimator_\n",
    "print(BestKNN)\n",
    "print(clf.best_score_)"
   ]
  },
  {
   "cell_type": "markdown",
   "id": "59a71025-e529-4256-99bd-b66af153c18e",
   "metadata": {},
   "source": [
    "### 3.3 Let's make the data a bit messier.\n",
    "\n",
    "You probably found that one model worked perfectly. We can add a little noice to make things more interesting."
   ]
  },
  {
   "cell_type": "code",
   "execution_count": 156,
   "id": "9b47fb73-5483-41a9-9525-a83ba89a066a",
   "metadata": {},
   "outputs": [
    {
     "data": {
      "text/plain": [
       "<matplotlib.collections.PathCollection at 0x7f9d18a5c790>"
      ]
     },
     "execution_count": 156,
     "metadata": {},
     "output_type": "execute_result"
    },
    {
     "data": {
      "image/png": "[encoded data removed]",
      "text/plain": [
       "<Figure size 432x288 with 1 Axes>"
      ]
     },
     "metadata": {
      "filenames": {
       "image/png": "/Users/caballero/Repos/teaching/OPSI_ML_workshop/_build/jupyter_execute/notebooks/day-4/Day_4-Multiplicity_of_Models-SOL_69_1.png"
      },
      "needs_background": "light"
     },
     "output_type": "display_data"
    }
   ],
   "source": [
    "X, y = make_circles(n_samples = 500, noise = 0.05)\n",
    "\n",
    "loc = pd.DataFrame(X, columns=['x1','x2'])\n",
    "label = pd.DataFrame(y, columns=['y'])\n",
    "\n",
    "plt.scatter(loc['x1'], loc['x2'], c=label['y'])"
   ]
  },
  {
   "cell_type": "markdown",
   "id": "e9f398fa-4eb9-4d4a-8935-5a7dff189cb0",
   "metadata": {},
   "source": [
    "### 3.4 Try to find the best model for this data\n",
    "\n",
    "<font size=+3>&#9998;</font> **Do this:** Test the LR, SVC, KNN, and RF models on these data. Use `GridSearchCV()` to find the best model for each. How do the accuracies compare? Which might you use to work more on this problem? *No need to plot disitrbutions for this, you can do that later if you like.*"
   ]
  },
  {
   "cell_type": "code",
   "execution_count": 157,
   "id": "0bc1b7a1-1e7c-4dc0-807e-df9c49144f1a",
   "metadata": {},
   "outputs": [],
   "source": [
    "## your code here"
   ]
  },
  {
   "cell_type": "code",
   "execution_count": 158,
   "id": "3b56f979-a3ed-4ab9-92d9-6711fdee4479",
   "metadata": {},
   "outputs": [
    {
     "name": "stdout",
     "output_type": "stream",
     "text": [
      "KNeighborsClassifier(n_neighbors=7)\n",
      "0.9720000000000001\n"
     ]
    }
   ],
   "source": [
    "### ANSWER ###\n",
    "parameters = [\n",
    "    {'n_neighbors': np.arange(2,21)}\n",
    "]\n",
    "\n",
    "KNN_tuned = KNeighborsClassifier()\n",
    "clf = GridSearchCV(KNN_tuned, parameters)\n",
    "clf.fit(loc, label['y'])\n",
    "\n",
    "BestKNN = clf.best_estimator_\n",
    "print(BestKNN)\n",
    "print(clf.best_score_)"
   ]
  },
  {
   "cell_type": "code",
   "execution_count": 159,
   "id": "526aaaa5-0604-4e01-82f0-f92cbf5dd9a1",
   "metadata": {},
   "outputs": [
    {
     "name": "stdout",
     "output_type": "stream",
     "text": [
      "RandomForestClassifier(criterion='entropy')\n",
      "0.942\n"
     ]
    }
   ],
   "source": [
    "### ANSWER ###\n",
    "\n",
    "parameters = [\n",
    "    {'n_estimators': [10, 50, 100, 200]},\n",
    "    {'criterion' : ['gini', 'entropy']},\n",
    "    {'max_features': ['auto', 'sqrt', 'log2']}\n",
    "]\n",
    "\n",
    "RF_tuned = RandomForestClassifier()\n",
    "clf = GridSearchCV(RF_tuned, parameters)\n",
    "clf.fit(loc, label['y'])\n",
    "\n",
    "BestRF = clf.best_estimator_\n",
    "print(BestRF)\n",
    "print(clf.best_score_)"
   ]
  },
  {
   "cell_type": "code",
   "execution_count": 160,
   "id": "cc21e1f0-34d1-4f74-8a14-180e71695859",
   "metadata": {},
   "outputs": [
    {
     "name": "stdout",
     "output_type": "stream",
     "text": [
      "SVC(C=1)\n",
      "0.9799999999999999\n"
     ]
    }
   ],
   "source": [
    "### ANSWER ###\n",
    "\n",
    "parameters = [\n",
    "    {'C': [0.001, 0.01, 0.1, 1, 10]}\n",
    "]\n",
    "\n",
    "RBF_tuned = SVC(kernel='rbf')\n",
    "clf = GridSearchCV(RBF_tuned, parameters)\n",
    "clf.fit(loc, label['y'])\n",
    "\n",
    "BestRBF = clf.best_estimator_\n",
    "print(BestRBF)\n",
    "print(clf.best_score_)"
   ]
  }
 ],
 "metadata": {
  "kernelspec": {
   "display_name": "ml-short-course",
   "language": "python",
   "name": "ml-short-course"
  },
  "language_info": {
   "codemirror_mode": {
    "name": "ipython",
    "version": 3
   },
   "file_extension": ".py",
   "mimetype": "text/x-python",
   "name": "python",
   "nbconvert_exporter": "python",
   "pygments_lexer": "ipython3",
   "version": "3.9.4"
  }
 },
 "nbformat": 4,
 "nbformat_minor": 5
}